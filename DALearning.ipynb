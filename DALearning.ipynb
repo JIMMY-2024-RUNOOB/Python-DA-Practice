{
 "cells": [
  {
   "cell_type": "markdown",
   "id": "9bcdc250-7bd1-496b-8888-64875eb99659",
   "metadata": {},
   "source": [
    "# 我是一级标题\n",
    "## 我是二级标题\n",
    "### 我是三级标题"
   ]
  },
  {
   "cell_type": "markdown",
   "id": "cf19fc6e-bf4c-4a1b-bd09-0ade8265361b",
   "metadata": {},
   "source": [
    "我是**粗体字**  \n",
    "我是*斜体字*  \n",
    "我被~~删除了~~  "
   ]
  },
  {
   "cell_type": "markdown",
   "id": "e7ee632c-7a76-4b27-a2a5-c7bcf74e3b3e",
   "metadata": {},
   "source": [
    "# 我也是一级标题"
   ]
  },
  {
   "cell_type": "markdown",
   "id": "9f4ac3f0-6da0-44c6-9536-f0f82053618f",
   "metadata": {},
   "source": [
    "- 我是列表的第一行\n",
    "- 我是列表的第二行 \n",
    "- 我是列表的第三行\n",
    "1. 我是列表的第一行\n",
    "2. 我是列表的第三行\n",
    "3. 我才是列表的第三行"
   ]
  },
  {
   "cell_type": "markdown",
   "id": "0ce7ccbb-4b5f-4214-88c5-1ef2e8d63459",
   "metadata": {},
   "source": [
    "[B站课堂](https://www.bilibili.com/cheese/play/ep124472?csource=common_myclass_purchasedlecture_null&spm_id_from=333.874.selfDef.mine_paid_list)"
   ]
  },
  {
   "cell_type": "markdown",
   "id": "0370fef5-6cd3-4b65-9ced-bd95d757e251",
   "metadata": {},
   "source": [
    "> 孤舟蓑笠翁  \n",
    "独钓寒江雪"
   ]
  },
  {
   "cell_type": "markdown",
   "id": "24e40839-9df3-49e3-a30b-b5ba385b7665",
   "metadata": {},
   "source": [
    "我们通过`pandas`来完成数据清洗"
   ]
  },
  {
   "cell_type": "markdown",
   "id": "840173fe-5ed9-4284-9ee6-fd855a2ffc14",
   "metadata": {},
   "source": [
    "这是一个公式：$y=x+3$"
   ]
  },
  {
   "cell_type": "markdown",
   "id": "af96cf67-84d1-4de3-88f6-882bc03ed7df",
   "metadata": {},
   "source": [
    "下面是一个独占一行的公式：$$y=x+3$$"
   ]
  },
  {
   "cell_type": "markdown",
   "id": "169d7fc6-2e10-4470-ad7f-2e2840acbc7a",
   "metadata": {},
   "source": [
    "$$x=y$$ $$x-y$$ $$x\\times y$$ $$x\\div y$$ $$x^3$$ $$H_2SO_3$$ $$S_{input}$$ \n",
    "$$S^2=\\frac{1}{n}\\sum_{i=1}^n(X_i-\\overline X)^2$$ $$\\sqrt[n]{x+y}$$"
   ]
  },
  {
   "cell_type": "markdown",
   "id": "a5c0c239-4286-4f2b-ad7a-70f0acb1e58f",
   "metadata": {},
   "source": [
    "# Numpy"
   ]
  },
  {
   "cell_type": "code",
   "execution_count": 1,
   "id": "4bb10310-f202-4b3f-897f-391fbf945512",
   "metadata": {},
   "outputs": [
    {
     "name": "stdout",
     "output_type": "stream",
     "text": [
      "1.26.4\n"
     ]
    }
   ],
   "source": [
    "import numpy as np\n",
    "print(np.__version__)"
   ]
  },
  {
   "cell_type": "markdown",
   "id": "6a5758f6-f3e2-4ab2-8296-c2d31f3e668c",
   "metadata": {},
   "source": [
    "## 创建数组"
   ]
  },
  {
   "cell_type": "markdown",
   "id": "6f094451-f78c-4a35-9125-dfb33014d4bd",
   "metadata": {},
   "source": [
    "### 属性\n",
    "`.shape`各个维度里元素的个数  \n",
    "`.ndim`数组（矩阵）的维度  \n",
    "`.size`元素里的总个数  \n",
    "`.dtype`数组元素的类型，比如说`int64`就是整数且比特长度是64  \n",
    "### 方法  \n",
    "`np.array(...)`手动传入元素创建数组  \n",
    "`np.zeros(...)`  \n",
    "`np.ones(...)`  \n",
    "注：数字后面带小数点是因为数字的类型是浮点数  \n",
    "`np.arange(...)`"
   ]
  },
  {
   "cell_type": "markdown",
   "id": "b38fbbe4-bbfa-4cbe-a2fa-0b738b67206f",
   "metadata": {},
   "source": [
    "#### 实践"
   ]
  },
  {
   "cell_type": "markdown",
   "id": "26718ca9-5504-416c-b3e6-46929d3eb2cd",
   "metadata": {},
   "source": [
    "创建一个变量名为 arr1 的一维数组，里面的元素为整数6、2、-7、2、8、-2、1。创建后输出arr1"
   ]
  },
  {
   "cell_type": "code",
   "execution_count": 2,
   "id": "82db0595-0c21-401a-b84a-5149ce01524f",
   "metadata": {},
   "outputs": [
    {
     "name": "stdout",
     "output_type": "stream",
     "text": [
      "[ 6  2 -7  2  8 -2  1]\n"
     ]
    }
   ],
   "source": [
    "arr1 = np.array([6,2,-7,2,8,-2,1])\n",
    "print(arr1)"
   ]
  },
  {
   "cell_type": "markdown",
   "id": "0f0fe586-5887-4d28-9fef-39209f4e5581",
   "metadata": {},
   "source": [
    "创建一个变量名为 arr2 的二维数组，里面的元素为以下两个数组:由整数1、3、5组成的一维数组，以及由整数2、4、6组成的一维数组。创建后输出arr2。"
   ]
  },
  {
   "cell_type": "code",
   "execution_count": 3,
   "id": "ef260e2b-6223-420c-953a-ffe87fcae7bb",
   "metadata": {},
   "outputs": [
    {
     "name": "stdout",
     "output_type": "stream",
     "text": [
      "[[1 3 5]\n",
      " [2 4 6]]\n"
     ]
    }
   ],
   "source": [
    "arr2 = np.array([[1,3,5],[2,4,6]])\n",
    "print(arr2)"
   ]
  },
  {
   "cell_type": "markdown",
   "id": "6c1a38ad-c9f2-4521-a5f5-8138924ab379",
   "metadata": {},
   "source": [
    "分别打印 arr1 和 arr2 的维度、形状、元素数量、元素类型"
   ]
  },
  {
   "cell_type": "code",
   "execution_count": 4,
   "id": "709e529b-eef3-4400-a5b8-85611988382a",
   "metadata": {},
   "outputs": [
    {
     "name": "stdout",
     "output_type": "stream",
     "text": [
      "1 int32\n",
      "(7,)\n",
      "7\n"
     ]
    }
   ],
   "source": [
    "print(arr1.ndim,arr1.dtype)\n",
    "print(arr1.shape)\n",
    "print(arr1.size)"
   ]
  },
  {
   "cell_type": "code",
   "execution_count": 5,
   "id": "6f4439ce-532c-448d-bb54-f5b141f6d32b",
   "metadata": {},
   "outputs": [
    {
     "name": "stdout",
     "output_type": "stream",
     "text": [
      "[0. 0. 0. 0. 0. 0.]\n"
     ]
    }
   ],
   "source": [
    "arr_all_0 = np.zeros(6)\n",
    "print(arr_all_0)"
   ]
  },
  {
   "cell_type": "code",
   "execution_count": 6,
   "id": "89094153-5cfb-4245-b5ca-0a1899f37d03",
   "metadata": {},
   "outputs": [
    {
     "name": "stdout",
     "output_type": "stream",
     "text": [
      "[1. 1. 1. 1. 1. 1.]\n"
     ]
    }
   ],
   "source": [
    "arr_all_1 = np.ones(6)\n",
    "print(arr_all_1)"
   ]
  },
  {
   "cell_type": "code",
   "execution_count": 7,
   "id": "c931286c-3ebf-456e-b3a1-38d84b9ee079",
   "metadata": {},
   "outputs": [
    {
     "name": "stdout",
     "output_type": "stream",
     "text": [
      "[10 12 14 16 18 20]\n"
     ]
    }
   ],
   "source": [
    "arr_even = np.arange(10,21,2)\n",
    "print(arr_even)"
   ]
  },
  {
   "cell_type": "markdown",
   "id": "b290c934-aad1-4870-b49f-475065f81147",
   "metadata": {},
   "source": [
    "## 数组常用操作"
   ]
  },
  {
   "cell_type": "markdown",
   "id": "4b960e5f-b91c-4077-b0e9-3ced45b9ae2b",
   "metadata": {},
   "source": [
    "`np.conatenate([array1,array2])` 用于连接数组  \n",
    "`np.sort(array1)` NumPy的sort函数，不改变原始数组  \n",
    "`array1.sort()` NumPy的sort方法，改变原始数组  \n",
    "`array1[index]` 用索引获得某一元素  \n",
    "`array1[begin:end]` 切片（不包括最后那个元素）  \n",
    "拓展 `array1[:end]`,`array1[begin:]`和`array1[:]`"
   ]
  },
  {
   "cell_type": "markdown",
   "id": "6a1b0481-750a-4e29-9b7b-7ded7ca11ce6",
   "metadata": {},
   "source": [
    "#### 数组运算"
   ]
  },
  {
   "cell_type": "markdown",
   "id": "999d1242-92c2-4a7b-89b2-08b6e7497719",
   "metadata": {},
   "source": [
    "array1 + array2  \n",
    "array1 - array2  \n",
    "array1 * array2  \n",
    "array1 / array2  \n",
    "对应元素直接进行运算  "
   ]
  },
  {
   "cell_type": "markdown",
   "id": "c9127981-fade-4f4a-88e0-aa44c3092d22",
   "metadata": {},
   "source": [
    "array1 * b 数组与单个数字运算，广播机制  \n",
    "`array1.max()`  \n",
    "`array1.min()`  \n",
    "`array1.sum()`  \n",
    "`array1.mean()`  聚合操作"
   ]
  },
  {
   "cell_type": "markdown",
   "id": "4164945d-4529-45b3-9267-e40b942ac144",
   "metadata": {},
   "source": [
    "#### 条件筛选"
   ]
  },
  {
   "cell_type": "markdown",
   "id": "489a656a-cde7-4998-9fad-ae1c45711cfa",
   "metadata": {},
   "source": [
    "`array1[array1的条件语句]` 返回由满足条件的元素组成的数组  \n",
    "如`array1[array1 > 5]` 返回数组中大于5的元素组成的一个数组"
   ]
  },
  {
   "cell_type": "markdown",
   "id": "72b00ba6-cd38-4fee-a8d1-eff7de9644e8",
   "metadata": {},
   "source": [
    "`array1[(条件1）&（条件2）](|和~)` 为逻辑运算，分别表示“与”“或”“非”"
   ]
  },
  {
   "cell_type": "markdown",
   "id": "c32e7ed6-f301-45bf-8095-ff0bdfc09be4",
   "metadata": {},
   "source": [
    "# Pandas"
   ]
  },
  {
   "cell_type": "code",
   "execution_count": 8,
   "id": "38faf2a8-0948-4dba-9180-a20da44a7759",
   "metadata": {},
   "outputs": [],
   "source": [
    "import pandas as pd"
   ]
  },
  {
   "cell_type": "markdown",
   "id": "a313cc53-198a-4cad-8624-ac5c7b1439bf",
   "metadata": {},
   "source": [
    "## 创建Series"
   ]
  },
  {
   "cell_type": "markdown",
   "id": "caf944f9-dbb1-4fa5-b163-a002aec922fc",
   "metadata": {},
   "source": [
    "`pd.Series([x,x,x])` 注意S要大写  \n",
    "`pd.Series({标签：值})` 直接传入字典"
   ]
  },
  {
   "cell_type": "code",
   "execution_count": 9,
   "id": "3108f4b0-f732-4246-8135-fece11b19cd0",
   "metadata": {},
   "outputs": [
    {
     "name": "stdout",
     "output_type": "stream",
     "text": [
      "0    11\n",
      "1    12\n",
      "2    13\n",
      "dtype: int64\n"
     ]
    }
   ],
   "source": [
    "print(pd.Series([11,12,13]))"
   ]
  },
  {
   "cell_type": "markdown",
   "id": "ffac3ca3-9edd-47ba-a4e6-122005ab0fe6",
   "metadata": {},
   "source": [
    "### 获得Series的元素和索引"
   ]
  },
  {
   "cell_type": "markdown",
   "id": "01f27f2f-e6ce-4c63-b59a-f5dddfcad726",
   "metadata": {},
   "source": [
    "`.values`获得元素  \n",
    "`.index`获得索引"
   ]
  },
  {
   "cell_type": "markdown",
   "id": "35498092-3f22-467b-86f1-61649532c748",
   "metadata": {},
   "source": [
    "### 索引和切片"
   ]
  },
  {
   "cell_type": "markdown",
   "id": "2217bb0d-504f-4e6b-89eb-117f39caec8e",
   "metadata": {},
   "source": [
    "索引可自定义（标签）  \n",
    "`pd.Series([],index = [])`"
   ]
  },
  {
   "cell_type": "markdown",
   "id": "1a9ae1d1-c90f-432d-a9a0-06d94ab10b3a",
   "metadata": {},
   "source": [
    "切片操作和python列表一样  \n",
    "如果要获取多个元素，使用切片"
   ]
  },
  {
   "cell_type": "markdown",
   "id": "9891febb-ca80-479f-bd93-64b88d8219b8",
   "metadata": {},
   "source": [
    "两种索引取值的方法  \n",
    "用标签索引 `s1.loc[]`  \n",
    "用位置索引 `s1.iloc[]`\n",
    "注意！位置索引（数字）不包含结束值，而标签索引包含"
   ]
  },
  {
   "cell_type": "markdown",
   "id": "7a4a2110-5994-4d1f-a449-02bb9ab53154",
   "metadata": {},
   "source": [
    "### 修改Series里的值"
   ]
  },
  {
   "cell_type": "markdown",
   "id": "bf38f225-f08a-4295-a3f0-c95915799b3e",
   "metadata": {},
   "source": [
    "`s.iloc/loc[索引] = xxx` \"i\"开头指的是位置索引，否则就是标签索引"
   ]
  },
  {
   "cell_type": "markdown",
   "id": "efcadd4c-7067-414b-9a1d-f55ad346c604",
   "metadata": {},
   "source": [
    "### 条件筛选"
   ]
  },
  {
   "cell_type": "markdown",
   "id": "b872025c-d1fc-467e-a2d7-0c09b5c33cd2",
   "metadata": {},
   "source": [
    "`series[series条件语句]` 返回满足条件的Series元素组成的Series  \n",
    "与   或   非  \n",
    "&    |    ~"
   ]
  },
  {
   "cell_type": "markdown",
   "id": "28ba2083-a6dd-427b-aea4-e46a02fa2acf",
   "metadata": {},
   "source": [
    "## Series操作"
   ]
  },
  {
   "cell_type": "markdown",
   "id": "dfccdbfd-b186-4488-8bf8-9dfa779bcba5",
   "metadata": {},
   "source": [
    "### Series运算  \n",
    "`Series1 + Series2` 将两Series的共同元素对应相加，一个Series独有的元素变成NaN，返回一个并集，索引自动对齐  \n",
    "`Series1.add(s2, fill_value=0)` 给NaN设置一个默认值0"
   ]
  },
  {
   "cell_type": "markdown",
   "id": "07ce5cc3-9678-49e3-86be-fe057e017caa",
   "metadata": {},
   "source": [
    "统计学运算  \n",
    "`s1.max()`  \n",
    "`s1.min()`  \n",
    "`s1.sum()`  \n",
    "`s1.mean()`   \n",
    "一键算统计学指标  \n",
    "`s1.describe()`"
   ]
  },
  {
   "cell_type": "markdown",
   "id": "4bc5d8b2-f212-4541-a835-a8cf5fd6e0bc",
   "metadata": {},
   "source": [
    "广播机制  \n",
    "`s1 * a`  \n",
    "`s1.apply(函数)` 将函数分别运用于各个元素，返回一个新的Series，不改变原Series的值（这里也可以使用匿名函数）"
   ]
  },
  {
   "cell_type": "markdown",
   "id": "127909e7-9c63-4298-8962-70b44fabc829",
   "metadata": {},
   "source": [
    "## DataFrame"
   ]
  },
  {
   "cell_type": "markdown",
   "id": "e5ca2fa5-bc13-487e-8202-ce8fb7aa9f07",
   "metadata": {},
   "source": [
    "\"由Series组成的字典，键是列名，值是Series\""
   ]
  },
  {
   "cell_type": "markdown",
   "id": "1728142e-6ee4-4c03-9abb-8fb0b7c6924a",
   "metadata": {},
   "source": [
    "### 创建DataFrame"
   ]
  },
  {
   "cell_type": "markdown",
   "id": "8ab83b29-cb35-4228-b186-dbbe96561f30",
   "metadata": {},
   "source": [
    "`pd.DataFrame({列名:Series(或者是列表),列名:Series(或者是列表)})` 传入字典  \n",
    "index默认是从0开始的数字，如果传入的Series的index是标签，则DataFrame的index也会变为对应的标签  \n",
    "也可以是字典嵌套字典的方法传入（因为Series可以由传入一个字典创建），最外层的键仍然对应各个列名（最内层的字典是Series，最外层的字典是DF）"
   ]
  },
  {
   "cell_type": "markdown",
   "id": "18bc6e13-d0c8-4221-9e03-82d1b7789832",
   "metadata": {},
   "source": [
    "### 获取DataFrame的索引和列名"
   ]
  },
  {
   "cell_type": "markdown",
   "id": "8c62bfdb-f27f-4fc0-a6d7-16c96c5f2217",
   "metadata": {},
   "source": [
    "`df1.index` 索引  \n",
    "`df1.columms` 列名  \n",
    "`df1.values` 值  "
   ]
  },
  {
   "cell_type": "markdown",
   "id": "2ebc8752-2d3e-4f74-9c5b-fb97cdd9ef72",
   "metadata": {},
   "source": [
    "### 对DataFrame进行转置  \n",
    "`df1.T` 把原来的行变成列，把列变成行"
   ]
  },
  {
   "cell_type": "markdown",
   "id": "1b884db0-41cc-4241-a2c5-eb2323f8525b",
   "metadata": {},
   "source": [
    "### 提取DataFrame的列  \n",
    "`df1[列名]` 返回索引加值组成的Series（和字典类似）  \n",
    "或者用属性 `df1.列名` 但是如果列名里面由特殊符号或者运算符就不能用此方法  \n",
    "如果想提取多个列的话，可以在[]中将要提取的列名写成一个集合（不是切片）  \n",
    "如 `df1[[\"学号,\"成绩\"]]` 返回一个DataFrame"
   ]
  },
  {
   "cell_type": "markdown",
   "id": "0b8503e3-b68b-450a-817c-2754c78297c0",
   "metadata": {},
   "source": [
    "### 提取DataFrame里的行  \n",
    "`df1.loc[索引（行名）]`  返回由列名为索引、同一行值所构成的Series（因为提取行相当于Series里面的“索引取值”，所以用loc或iloc）  \n",
    "提取多个行，使用行名的切片或者位置切片，同样，位置切片不包含结束值，而标签包含。  \n",
    "如果想取特定的行，传入的参数写成列表。如`df1.loc[[\"小明\",\"小丽\"]]`"
   ]
  },
  {
   "cell_type": "markdown",
   "id": "3e51b3ab-62e1-4b27-bd06-400cdc79ee79",
   "metadata": {},
   "source": [
    "### 提取DataFrame里的特定元素  \n",
    "`df1.loc[行名,列名]` 或 `df1.iloc[行的位置索引,列的位置索引]`"
   ]
  },
  {
   "cell_type": "markdown",
   "id": "f9d75834-b966-4683-9031-4f97dc1f3589",
   "metadata": {},
   "source": [
    "### 提取部分DataFrame  \n",
    "`df1.loc[行名的切片,列名的切片]` 或 `df1.iloc[行的位置索引切片,列的位置索引切片]`  \n",
    "位置索引不包含结束值，这里的切片不是列表了，如`df1.loc[:,\"考试1\",\"考试3\"]`"
   ]
  },
  {
   "cell_type": "markdown",
   "id": "7a4db0ae-342e-4d50-b7d1-4060a96bbc0b",
   "metadata": {},
   "source": [
    "### 条件筛选DataFrame的行  \n",
    "\"行是一个实例，列是实例的属性\"\n",
    "`df1[df1[列名] > 80(条件)]` DataFrame的列是Series类型,Series和条件结合，会返回由布尔值组成的Series,DataFrame保留True的行，返回一个满足条件的DataFrame"
   ]
  },
  {
   "cell_type": "markdown",
   "id": "60cd8d8f-90f1-4dd3-b807-7d1a57d1d2a7",
   "metadata": {},
   "source": [
    "与或非同Series  \n",
    "如`df1[(df1[\"成绩\"] > 80) & (df1[\"班级\"] == \"一班\")]`"
   ]
  },
  {
   "cell_type": "markdown",
   "id": "99494285-2edb-4da1-91fe-f33e401d2252",
   "metadata": {},
   "source": [
    "### 获取DataFrame的前N行  \n",
    "`df1.head()` 默认返回前5行  \n",
    "`df1.head(n)` 返回前n行"
   ]
  },
  {
   "cell_type": "markdown",
   "id": "d4b2cd97-c37f-4e95-9f49-1ce703269e4e",
   "metadata": {},
   "source": [
    "练习"
   ]
  },
  {
   "cell_type": "code",
   "execution_count": 10,
   "id": "9eb0eaa4-318d-4b3a-9414-a094eadc963b",
   "metadata": {},
   "outputs": [],
   "source": [
    "name = pd.Series([\"小陈\",\"小李\",\"小王\",\"小张\"],index = [\"001\",\"002\",\"003\",\"004\"])\n",
    "gender = pd.Series([\"女\",\"女\",\"男\",\"男\"],index = [\"004\",\"003\",\"002\",\"001\"])\n",
    "height = pd.Series([172,168,180,175],index = [\"001\",\"002\",\"003\",\"004\"])"
   ]
  },
  {
   "cell_type": "code",
   "execution_count": 11,
   "id": "dfe54f29-d6be-45c0-ab86-0bd48292328b",
   "metadata": {},
   "outputs": [
    {
     "data": {
      "text/html": [
       "<div>\n",
       "<style scoped>\n",
       "    .dataframe tbody tr th:only-of-type {\n",
       "        vertical-align: middle;\n",
       "    }\n",
       "\n",
       "    .dataframe tbody tr th {\n",
       "        vertical-align: top;\n",
       "    }\n",
       "\n",
       "    .dataframe thead th {\n",
       "        text-align: right;\n",
       "    }\n",
       "</style>\n",
       "<table border=\"1\" class=\"dataframe\">\n",
       "  <thead>\n",
       "    <tr style=\"text-align: right;\">\n",
       "      <th></th>\n",
       "      <th>姓名</th>\n",
       "      <th>性别</th>\n",
       "      <th>身高</th>\n",
       "    </tr>\n",
       "  </thead>\n",
       "  <tbody>\n",
       "    <tr>\n",
       "      <th>001</th>\n",
       "      <td>小陈</td>\n",
       "      <td>男</td>\n",
       "      <td>172</td>\n",
       "    </tr>\n",
       "    <tr>\n",
       "      <th>002</th>\n",
       "      <td>小李</td>\n",
       "      <td>男</td>\n",
       "      <td>168</td>\n",
       "    </tr>\n",
       "    <tr>\n",
       "      <th>003</th>\n",
       "      <td>小王</td>\n",
       "      <td>女</td>\n",
       "      <td>180</td>\n",
       "    </tr>\n",
       "    <tr>\n",
       "      <th>004</th>\n",
       "      <td>小张</td>\n",
       "      <td>女</td>\n",
       "      <td>175</td>\n",
       "    </tr>\n",
       "  </tbody>\n",
       "</table>\n",
       "</div>"
      ],
      "text/plain": [
       "     姓名 性别   身高\n",
       "001  小陈  男  172\n",
       "002  小李  男  168\n",
       "003  小王  女  180\n",
       "004  小张  女  175"
      ]
     },
     "execution_count": 11,
     "metadata": {},
     "output_type": "execute_result"
    }
   ],
   "source": [
    "students = pd.DataFrame({\"姓名\":name, \"性别\":gender, \"身高\":height})\n",
    "students"
   ]
  },
  {
   "cell_type": "code",
   "execution_count": 12,
   "id": "56b32198-3c1e-48bb-a848-a6056b12dff2",
   "metadata": {},
   "outputs": [
    {
     "name": "stdout",
     "output_type": "stream",
     "text": [
      "Index(['001', '002', '003', '004'], dtype='object') Index(['姓名', '性别', '身高'], dtype='object')\n"
     ]
    }
   ],
   "source": [
    "print(students.index,students.columns)"
   ]
  },
  {
   "cell_type": "code",
   "execution_count": 13,
   "id": "35f0f1bb-e54f-4ab1-b868-fbff777497f4",
   "metadata": {},
   "outputs": [
    {
     "data": {
      "text/html": [
       "<div>\n",
       "<style scoped>\n",
       "    .dataframe tbody tr th:only-of-type {\n",
       "        vertical-align: middle;\n",
       "    }\n",
       "\n",
       "    .dataframe tbody tr th {\n",
       "        vertical-align: top;\n",
       "    }\n",
       "\n",
       "    .dataframe thead th {\n",
       "        text-align: right;\n",
       "    }\n",
       "</style>\n",
       "<table border=\"1\" class=\"dataframe\">\n",
       "  <thead>\n",
       "    <tr style=\"text-align: right;\">\n",
       "      <th></th>\n",
       "      <th>001</th>\n",
       "      <th>002</th>\n",
       "      <th>003</th>\n",
       "      <th>004</th>\n",
       "    </tr>\n",
       "  </thead>\n",
       "  <tbody>\n",
       "    <tr>\n",
       "      <th>姓名</th>\n",
       "      <td>小陈</td>\n",
       "      <td>小李</td>\n",
       "      <td>小王</td>\n",
       "      <td>小张</td>\n",
       "    </tr>\n",
       "    <tr>\n",
       "      <th>性别</th>\n",
       "      <td>男</td>\n",
       "      <td>男</td>\n",
       "      <td>女</td>\n",
       "      <td>女</td>\n",
       "    </tr>\n",
       "    <tr>\n",
       "      <th>身高</th>\n",
       "      <td>172</td>\n",
       "      <td>168</td>\n",
       "      <td>180</td>\n",
       "      <td>175</td>\n",
       "    </tr>\n",
       "  </tbody>\n",
       "</table>\n",
       "</div>"
      ],
      "text/plain": [
       "    001  002  003  004\n",
       "姓名   小陈   小李   小王   小张\n",
       "性别    男    男    女    女\n",
       "身高  172  168  180  175"
      ]
     },
     "execution_count": 13,
     "metadata": {},
     "output_type": "execute_result"
    }
   ],
   "source": [
    "students.T"
   ]
  },
  {
   "cell_type": "code",
   "execution_count": 14,
   "id": "e19d7637-be8a-4d9a-be64-182eddc09f3a",
   "metadata": {},
   "outputs": [
    {
     "data": {
      "text/plain": [
       "001    172\n",
       "002    168\n",
       "003    180\n",
       "004    175\n",
       "Name: 身高, dtype: int64"
      ]
     },
     "execution_count": 14,
     "metadata": {},
     "output_type": "execute_result"
    }
   ],
   "source": [
    "students[\"身高\"]"
   ]
  },
  {
   "cell_type": "code",
   "execution_count": 15,
   "id": "afb06ade-6c95-4d36-9ed7-d1201adf64da",
   "metadata": {},
   "outputs": [
    {
     "data": {
      "text/html": [
       "<div>\n",
       "<style scoped>\n",
       "    .dataframe tbody tr th:only-of-type {\n",
       "        vertical-align: middle;\n",
       "    }\n",
       "\n",
       "    .dataframe tbody tr th {\n",
       "        vertical-align: top;\n",
       "    }\n",
       "\n",
       "    .dataframe thead th {\n",
       "        text-align: right;\n",
       "    }\n",
       "</style>\n",
       "<table border=\"1\" class=\"dataframe\">\n",
       "  <thead>\n",
       "    <tr style=\"text-align: right;\">\n",
       "      <th></th>\n",
       "      <th>性别</th>\n",
       "      <th>身高</th>\n",
       "    </tr>\n",
       "  </thead>\n",
       "  <tbody>\n",
       "    <tr>\n",
       "      <th>001</th>\n",
       "      <td>男</td>\n",
       "      <td>172</td>\n",
       "    </tr>\n",
       "    <tr>\n",
       "      <th>002</th>\n",
       "      <td>男</td>\n",
       "      <td>168</td>\n",
       "    </tr>\n",
       "    <tr>\n",
       "      <th>003</th>\n",
       "      <td>女</td>\n",
       "      <td>180</td>\n",
       "    </tr>\n",
       "    <tr>\n",
       "      <th>004</th>\n",
       "      <td>女</td>\n",
       "      <td>175</td>\n",
       "    </tr>\n",
       "  </tbody>\n",
       "</table>\n",
       "</div>"
      ],
      "text/plain": [
       "    性别   身高\n",
       "001  男  172\n",
       "002  男  168\n",
       "003  女  180\n",
       "004  女  175"
      ]
     },
     "execution_count": 15,
     "metadata": {},
     "output_type": "execute_result"
    }
   ],
   "source": [
    "students[[\"性别\",\"身高\"]]"
   ]
  },
  {
   "cell_type": "code",
   "execution_count": 16,
   "id": "844b615a-c99c-4530-b290-30e4f631bd69",
   "metadata": {},
   "outputs": [
    {
     "data": {
      "text/plain": [
       "姓名     小李\n",
       "性别      男\n",
       "身高    168\n",
       "Name: 002, dtype: object"
      ]
     },
     "execution_count": 16,
     "metadata": {},
     "output_type": "execute_result"
    }
   ],
   "source": [
    "students.loc[\"002\"]"
   ]
  },
  {
   "cell_type": "code",
   "execution_count": 17,
   "id": "cc4b93f7-f570-4146-8f26-7fba88d9492a",
   "metadata": {},
   "outputs": [
    {
     "data": {
      "text/html": [
       "<div>\n",
       "<style scoped>\n",
       "    .dataframe tbody tr th:only-of-type {\n",
       "        vertical-align: middle;\n",
       "    }\n",
       "\n",
       "    .dataframe tbody tr th {\n",
       "        vertical-align: top;\n",
       "    }\n",
       "\n",
       "    .dataframe thead th {\n",
       "        text-align: right;\n",
       "    }\n",
       "</style>\n",
       "<table border=\"1\" class=\"dataframe\">\n",
       "  <thead>\n",
       "    <tr style=\"text-align: right;\">\n",
       "      <th></th>\n",
       "      <th>姓名</th>\n",
       "      <th>性别</th>\n",
       "      <th>身高</th>\n",
       "    </tr>\n",
       "  </thead>\n",
       "  <tbody>\n",
       "    <tr>\n",
       "      <th>002</th>\n",
       "      <td>小李</td>\n",
       "      <td>男</td>\n",
       "      <td>168</td>\n",
       "    </tr>\n",
       "    <tr>\n",
       "      <th>003</th>\n",
       "      <td>小王</td>\n",
       "      <td>女</td>\n",
       "      <td>180</td>\n",
       "    </tr>\n",
       "    <tr>\n",
       "      <th>004</th>\n",
       "      <td>小张</td>\n",
       "      <td>女</td>\n",
       "      <td>175</td>\n",
       "    </tr>\n",
       "  </tbody>\n",
       "</table>\n",
       "</div>"
      ],
      "text/plain": [
       "     姓名 性别   身高\n",
       "002  小李  男  168\n",
       "003  小王  女  180\n",
       "004  小张  女  175"
      ]
     },
     "execution_count": 17,
     "metadata": {},
     "output_type": "execute_result"
    }
   ],
   "source": [
    "students.loc[\"002\":\"004\"]"
   ]
  },
  {
   "cell_type": "code",
   "execution_count": 18,
   "id": "a9ccfc88-adeb-4e9b-8f44-2891dff5cfab",
   "metadata": {},
   "outputs": [
    {
     "data": {
      "text/html": [
       "<div>\n",
       "<style scoped>\n",
       "    .dataframe tbody tr th:only-of-type {\n",
       "        vertical-align: middle;\n",
       "    }\n",
       "\n",
       "    .dataframe tbody tr th {\n",
       "        vertical-align: top;\n",
       "    }\n",
       "\n",
       "    .dataframe thead th {\n",
       "        text-align: right;\n",
       "    }\n",
       "</style>\n",
       "<table border=\"1\" class=\"dataframe\">\n",
       "  <thead>\n",
       "    <tr style=\"text-align: right;\">\n",
       "      <th></th>\n",
       "      <th>姓名</th>\n",
       "      <th>身高</th>\n",
       "    </tr>\n",
       "  </thead>\n",
       "  <tbody>\n",
       "    <tr>\n",
       "      <th>002</th>\n",
       "      <td>小李</td>\n",
       "      <td>168</td>\n",
       "    </tr>\n",
       "    <tr>\n",
       "      <th>004</th>\n",
       "      <td>小张</td>\n",
       "      <td>175</td>\n",
       "    </tr>\n",
       "  </tbody>\n",
       "</table>\n",
       "</div>"
      ],
      "text/plain": [
       "     姓名   身高\n",
       "002  小李  168\n",
       "004  小张  175"
      ]
     },
     "execution_count": 18,
     "metadata": {},
     "output_type": "execute_result"
    }
   ],
   "source": [
    "students.loc[[\"002\",\"004\"],[\"姓名\",\"身高\"]]"
   ]
  },
  {
   "cell_type": "code",
   "execution_count": 19,
   "id": "ac1a5a15-22d8-41fa-a363-fd7fa96c7a73",
   "metadata": {},
   "outputs": [
    {
     "data": {
      "text/html": [
       "<div>\n",
       "<style scoped>\n",
       "    .dataframe tbody tr th:only-of-type {\n",
       "        vertical-align: middle;\n",
       "    }\n",
       "\n",
       "    .dataframe tbody tr th {\n",
       "        vertical-align: top;\n",
       "    }\n",
       "\n",
       "    .dataframe thead th {\n",
       "        text-align: right;\n",
       "    }\n",
       "</style>\n",
       "<table border=\"1\" class=\"dataframe\">\n",
       "  <thead>\n",
       "    <tr style=\"text-align: right;\">\n",
       "      <th></th>\n",
       "      <th>姓名</th>\n",
       "      <th>性别</th>\n",
       "      <th>身高</th>\n",
       "    </tr>\n",
       "  </thead>\n",
       "  <tbody>\n",
       "    <tr>\n",
       "      <th>002</th>\n",
       "      <td>小李</td>\n",
       "      <td>男</td>\n",
       "      <td>168</td>\n",
       "    </tr>\n",
       "    <tr>\n",
       "      <th>004</th>\n",
       "      <td>小张</td>\n",
       "      <td>女</td>\n",
       "      <td>175</td>\n",
       "    </tr>\n",
       "  </tbody>\n",
       "</table>\n",
       "</div>"
      ],
      "text/plain": [
       "     姓名 性别   身高\n",
       "002  小李  男  168\n",
       "004  小张  女  175"
      ]
     },
     "execution_count": 19,
     "metadata": {},
     "output_type": "execute_result"
    }
   ],
   "source": [
    "students.loc[[\"002\",\"004\"]]"
   ]
  },
  {
   "cell_type": "code",
   "execution_count": 20,
   "id": "4fe22a67-e2af-41e2-bfb4-17f7115568f4",
   "metadata": {},
   "outputs": [
    {
     "data": {
      "text/html": [
       "<div>\n",
       "<style scoped>\n",
       "    .dataframe tbody tr th:only-of-type {\n",
       "        vertical-align: middle;\n",
       "    }\n",
       "\n",
       "    .dataframe tbody tr th {\n",
       "        vertical-align: top;\n",
       "    }\n",
       "\n",
       "    .dataframe thead th {\n",
       "        text-align: right;\n",
       "    }\n",
       "</style>\n",
       "<table border=\"1\" class=\"dataframe\">\n",
       "  <thead>\n",
       "    <tr style=\"text-align: right;\">\n",
       "      <th></th>\n",
       "      <th>姓名</th>\n",
       "      <th>性别</th>\n",
       "      <th>身高</th>\n",
       "    </tr>\n",
       "  </thead>\n",
       "  <tbody>\n",
       "    <tr>\n",
       "      <th>003</th>\n",
       "      <td>小王</td>\n",
       "      <td>女</td>\n",
       "      <td>180</td>\n",
       "    </tr>\n",
       "    <tr>\n",
       "      <th>004</th>\n",
       "      <td>小张</td>\n",
       "      <td>女</td>\n",
       "      <td>175</td>\n",
       "    </tr>\n",
       "  </tbody>\n",
       "</table>\n",
       "</div>"
      ],
      "text/plain": [
       "     姓名 性别   身高\n",
       "003  小王  女  180\n",
       "004  小张  女  175"
      ]
     },
     "execution_count": 20,
     "metadata": {},
     "output_type": "execute_result"
    }
   ],
   "source": [
    "students[(students[\"身高\"] > 165) & (students[\"性别\"] == \"女\")]"
   ]
  },
  {
   "cell_type": "code",
   "execution_count": 21,
   "id": "f535168c-1002-4e6c-9758-2e941baaad63",
   "metadata": {},
   "outputs": [
    {
     "data": {
      "text/html": [
       "<div>\n",
       "<style scoped>\n",
       "    .dataframe tbody tr th:only-of-type {\n",
       "        vertical-align: middle;\n",
       "    }\n",
       "\n",
       "    .dataframe tbody tr th {\n",
       "        vertical-align: top;\n",
       "    }\n",
       "\n",
       "    .dataframe thead th {\n",
       "        text-align: right;\n",
       "    }\n",
       "</style>\n",
       "<table border=\"1\" class=\"dataframe\">\n",
       "  <thead>\n",
       "    <tr style=\"text-align: right;\">\n",
       "      <th></th>\n",
       "      <th>姓名</th>\n",
       "      <th>性别</th>\n",
       "      <th>身高</th>\n",
       "    </tr>\n",
       "  </thead>\n",
       "  <tbody>\n",
       "    <tr>\n",
       "      <th>001</th>\n",
       "      <td>小陈</td>\n",
       "      <td>男</td>\n",
       "      <td>172</td>\n",
       "    </tr>\n",
       "    <tr>\n",
       "      <th>002</th>\n",
       "      <td>小李</td>\n",
       "      <td>男</td>\n",
       "      <td>168</td>\n",
       "    </tr>\n",
       "    <tr>\n",
       "      <th>003</th>\n",
       "      <td>小王</td>\n",
       "      <td>女</td>\n",
       "      <td>180</td>\n",
       "    </tr>\n",
       "    <tr>\n",
       "      <th>004</th>\n",
       "      <td>小张</td>\n",
       "      <td>女</td>\n",
       "      <td>175</td>\n",
       "    </tr>\n",
       "  </tbody>\n",
       "</table>\n",
       "</div>"
      ],
      "text/plain": [
       "     姓名 性别   身高\n",
       "001  小陈  男  172\n",
       "002  小李  男  168\n",
       "003  小王  女  180\n",
       "004  小张  女  175"
      ]
     },
     "execution_count": 21,
     "metadata": {},
     "output_type": "execute_result"
    }
   ],
   "source": [
    "students.head()"
   ]
  },
  {
   "cell_type": "markdown",
   "id": "cef40cfb-1fb3-4875-84d0-5651357cbd90",
   "metadata": {},
   "source": [
    "### 更新（创建）DataFrame的一列值  \n",
    "`df1[列名] = Series (或者Python列表)` 如果原Series里面有标签索引，那么新的Series里面也要有index属性，否则所有无法对齐的地方就会变成一个NaN。  \n",
    "如果是列表就不用，会自动对齐。  \n",
    "如果列名不存在，则会自动创建一个列，并以其为列名。"
   ]
  },
  {
   "cell_type": "markdown",
   "id": "e1fb3a66-69b2-44da-92bd-c87e038a3941",
   "metadata": {},
   "source": [
    "### 更新（创建）DataFrame的一行值  \n",
    "`df1.loc[索引(行名)] = Series (或者Python列表)` 需要把Series的index标签与列名相对应，列表则会自动对齐  \n",
    "注意：创建行只能用loc，用iloc会报错"
   ]
  },
  {
   "cell_type": "markdown",
   "id": "5892b5b2-8894-49c5-bbd5-43dfc8c24a00",
   "metadata": {},
   "source": [
    "### 删除DataFrame的行或者列  \n",
    "删除一行 `df1.drop(索引(行名))`  \n",
    "删除多行 `df1.drop(列表(包含多个标签索引))`  \n",
    "注意，drop并不会改变原始DataFrame，如果想要改变原始数据，将df1.drop[]重新赋值给df1  \n",
    "删除一列 `df1.drop(列名, axis = 1)`   \n",
    "注：axis = 1，沿着列名横向进行操作；axis = 0，沿着索引纵向进行操作。（判断axis是0还是1，关键看你的操作对象，删除列，操作对象（传入参数）是列名，要从列名处横向照，axis=1，而在后面df求平均值时，操作对象是元素，axis=1，返回Series和索引对应）  \n",
    "删除多列 `df1.drop(列表, axis = 1)`"
   ]
  },
  {
   "cell_type": "markdown",
   "id": "4a37e4c5-74a0-40b8-9918-db824f6d0b08",
   "metadata": {},
   "source": [
    "### DataFrame和DataFrame操作  \n",
    "`df1.add(df2, fill_value = 0)` 相加   \n",
    "`df1.sub(df2, fill_value = 0)` 相减  \n",
    "`df1.div(df2, fill_value = 0)` 相除  \n",
    "`df1.mul(df2, fill_value = 0)` 相乘"
   ]
  },
  {
   "cell_type": "markdown",
   "id": "4b6e2bd6-66b7-49dc-9779-9464c127d065",
   "metadata": {},
   "source": [
    "### DataFrame和Series操作  \n",
    "将Series的索引和DataFrame的列名对齐，应用到对应列下DataFrame的每一行上"
   ]
  },
  {
   "cell_type": "markdown",
   "id": "b2f9bcdd-f866-445d-beb2-16ccbd5ca68e",
   "metadata": {},
   "source": [
    "练习"
   ]
  },
  {
   "cell_type": "code",
   "execution_count": 22,
   "id": "4d723539-e5ce-4194-b576-3693e26bdf2b",
   "metadata": {},
   "outputs": [
    {
     "data": {
      "text/html": [
       "<div>\n",
       "<style scoped>\n",
       "    .dataframe tbody tr th:only-of-type {\n",
       "        vertical-align: middle;\n",
       "    }\n",
       "\n",
       "    .dataframe tbody tr th {\n",
       "        vertical-align: top;\n",
       "    }\n",
       "\n",
       "    .dataframe thead th {\n",
       "        text-align: right;\n",
       "    }\n",
       "</style>\n",
       "<table border=\"1\" class=\"dataframe\">\n",
       "  <thead>\n",
       "    <tr style=\"text-align: right;\">\n",
       "      <th></th>\n",
       "      <th>姓名</th>\n",
       "      <th>考试1</th>\n",
       "      <th>考试2</th>\n",
       "      <th>考试3</th>\n",
       "    </tr>\n",
       "  </thead>\n",
       "  <tbody>\n",
       "    <tr>\n",
       "      <th>001</th>\n",
       "      <td>小陈</td>\n",
       "      <td>85</td>\n",
       "      <td>95</td>\n",
       "      <td>92</td>\n",
       "    </tr>\n",
       "    <tr>\n",
       "      <th>002</th>\n",
       "      <td>小李</td>\n",
       "      <td>91</td>\n",
       "      <td>92</td>\n",
       "      <td>94</td>\n",
       "    </tr>\n",
       "    <tr>\n",
       "      <th>003</th>\n",
       "      <td>小王</td>\n",
       "      <td>86</td>\n",
       "      <td>81</td>\n",
       "      <td>89</td>\n",
       "    </tr>\n",
       "    <tr>\n",
       "      <th>004</th>\n",
       "      <td>小张</td>\n",
       "      <td>79</td>\n",
       "      <td>88</td>\n",
       "      <td>92</td>\n",
       "    </tr>\n",
       "    <tr>\n",
       "      <th>005</th>\n",
       "      <td>小赵</td>\n",
       "      <td>90</td>\n",
       "      <td>80</td>\n",
       "      <td>98</td>\n",
       "    </tr>\n",
       "    <tr>\n",
       "      <th>006</th>\n",
       "      <td>小周</td>\n",
       "      <td>83</td>\n",
       "      <td>95</td>\n",
       "      <td>90</td>\n",
       "    </tr>\n",
       "  </tbody>\n",
       "</table>\n",
       "</div>"
      ],
      "text/plain": [
       "     姓名 考试1 考试2 考试3\n",
       "001  小陈  85  95  92\n",
       "002  小李  91  92  94\n",
       "003  小王  86  81  89\n",
       "004  小张  79  88  92\n",
       "005  小赵  90  80  98\n",
       "006  小周  83  95  90"
      ]
     },
     "execution_count": 22,
     "metadata": {},
     "output_type": "execute_result"
    }
   ],
   "source": [
    "students = pd.DataFrame({\"001\":{\"姓名\":\"小陈\",\"考试1\":85,\"考试2\":95,\"考试3\":92},\n",
    "                         \"002\":{\"姓名\":\"小李\",\"考试1\":91,\"考试2\":92,\"考试3\":94},\n",
    "                         \"003\":{\"姓名\":\"小王\",\"考试1\":86,\"考试2\":81,\"考试3\":89},\n",
    "                         \"004\":{\"姓名\":\"小张\",\"考试1\":79,\"考试2\":88,\"考试3\":92},\n",
    "                         \"005\":{\"姓名\":\"小赵\",\"考试1\":90,\"考试2\":80,\"考试3\":98},\n",
    "                         \"006\":{\"姓名\":\"小周\",\"考试1\":83,\"考试2\":95,\"考试3\":90},})\n",
    "students = students.T\n",
    "students"
   ]
  },
  {
   "cell_type": "code",
   "execution_count": 23,
   "id": "9711d239-49c8-44dd-972a-e278e6f6b5a6",
   "metadata": {},
   "outputs": [
    {
     "data": {
      "text/html": [
       "<div>\n",
       "<style scoped>\n",
       "    .dataframe tbody tr th:only-of-type {\n",
       "        vertical-align: middle;\n",
       "    }\n",
       "\n",
       "    .dataframe tbody tr th {\n",
       "        vertical-align: top;\n",
       "    }\n",
       "\n",
       "    .dataframe thead th {\n",
       "        text-align: right;\n",
       "    }\n",
       "</style>\n",
       "<table border=\"1\" class=\"dataframe\">\n",
       "  <thead>\n",
       "    <tr style=\"text-align: right;\">\n",
       "      <th></th>\n",
       "      <th>姓名</th>\n",
       "      <th>考试1</th>\n",
       "      <th>考试2</th>\n",
       "      <th>考试3</th>\n",
       "      <th>考试4</th>\n",
       "    </tr>\n",
       "  </thead>\n",
       "  <tbody>\n",
       "    <tr>\n",
       "      <th>001</th>\n",
       "      <td>小陈</td>\n",
       "      <td>85</td>\n",
       "      <td>95</td>\n",
       "      <td>92</td>\n",
       "      <td>72</td>\n",
       "    </tr>\n",
       "    <tr>\n",
       "      <th>002</th>\n",
       "      <td>小李</td>\n",
       "      <td>91</td>\n",
       "      <td>92</td>\n",
       "      <td>94</td>\n",
       "      <td>69</td>\n",
       "    </tr>\n",
       "    <tr>\n",
       "      <th>003</th>\n",
       "      <td>小王</td>\n",
       "      <td>86</td>\n",
       "      <td>81</td>\n",
       "      <td>89</td>\n",
       "      <td>79</td>\n",
       "    </tr>\n",
       "    <tr>\n",
       "      <th>004</th>\n",
       "      <td>小张</td>\n",
       "      <td>79</td>\n",
       "      <td>88</td>\n",
       "      <td>92</td>\n",
       "      <td>83</td>\n",
       "    </tr>\n",
       "    <tr>\n",
       "      <th>005</th>\n",
       "      <td>小赵</td>\n",
       "      <td>90</td>\n",
       "      <td>80</td>\n",
       "      <td>98</td>\n",
       "      <td>82</td>\n",
       "    </tr>\n",
       "    <tr>\n",
       "      <th>006</th>\n",
       "      <td>小周</td>\n",
       "      <td>83</td>\n",
       "      <td>95</td>\n",
       "      <td>90</td>\n",
       "      <td>76</td>\n",
       "    </tr>\n",
       "  </tbody>\n",
       "</table>\n",
       "</div>"
      ],
      "text/plain": [
       "     姓名 考试1 考试2 考试3  考试4\n",
       "001  小陈  85  95  92   72\n",
       "002  小李  91  92  94   69\n",
       "003  小王  86  81  89   79\n",
       "004  小张  79  88  92   83\n",
       "005  小赵  90  80  98   82\n",
       "006  小周  83  95  90   76"
      ]
     },
     "execution_count": 23,
     "metadata": {},
     "output_type": "execute_result"
    }
   ],
   "source": [
    "students[\"考试4\"] = [72, 69, 79 ,83, 82, 76]\n",
    "students"
   ]
  },
  {
   "cell_type": "code",
   "execution_count": 24,
   "id": "20602174-9698-406e-831f-50a7c684e55f",
   "metadata": {},
   "outputs": [
    {
     "data": {
      "text/html": [
       "<div>\n",
       "<style scoped>\n",
       "    .dataframe tbody tr th:only-of-type {\n",
       "        vertical-align: middle;\n",
       "    }\n",
       "\n",
       "    .dataframe tbody tr th {\n",
       "        vertical-align: top;\n",
       "    }\n",
       "\n",
       "    .dataframe thead th {\n",
       "        text-align: right;\n",
       "    }\n",
       "</style>\n",
       "<table border=\"1\" class=\"dataframe\">\n",
       "  <thead>\n",
       "    <tr style=\"text-align: right;\">\n",
       "      <th></th>\n",
       "      <th>姓名</th>\n",
       "      <th>考试1</th>\n",
       "      <th>考试2</th>\n",
       "      <th>考试3</th>\n",
       "      <th>考试4</th>\n",
       "    </tr>\n",
       "  </thead>\n",
       "  <tbody>\n",
       "    <tr>\n",
       "      <th>001</th>\n",
       "      <td>小陈</td>\n",
       "      <td>85</td>\n",
       "      <td>95</td>\n",
       "      <td>92</td>\n",
       "      <td>72</td>\n",
       "    </tr>\n",
       "    <tr>\n",
       "      <th>002</th>\n",
       "      <td>小李</td>\n",
       "      <td>91</td>\n",
       "      <td>92</td>\n",
       "      <td>94</td>\n",
       "      <td>69</td>\n",
       "    </tr>\n",
       "    <tr>\n",
       "      <th>003</th>\n",
       "      <td>小王</td>\n",
       "      <td>86</td>\n",
       "      <td>81</td>\n",
       "      <td>89</td>\n",
       "      <td>79</td>\n",
       "    </tr>\n",
       "    <tr>\n",
       "      <th>004</th>\n",
       "      <td>小张</td>\n",
       "      <td>79</td>\n",
       "      <td>88</td>\n",
       "      <td>92</td>\n",
       "      <td>83</td>\n",
       "    </tr>\n",
       "    <tr>\n",
       "      <th>005</th>\n",
       "      <td>小赵</td>\n",
       "      <td>90</td>\n",
       "      <td>80</td>\n",
       "      <td>98</td>\n",
       "      <td>82</td>\n",
       "    </tr>\n",
       "    <tr>\n",
       "      <th>006</th>\n",
       "      <td>小周</td>\n",
       "      <td>83</td>\n",
       "      <td>95</td>\n",
       "      <td>90</td>\n",
       "      <td>76</td>\n",
       "    </tr>\n",
       "    <tr>\n",
       "      <th>007</th>\n",
       "      <td>小杨</td>\n",
       "      <td>79</td>\n",
       "      <td>82</td>\n",
       "      <td>81</td>\n",
       "      <td>69</td>\n",
       "    </tr>\n",
       "  </tbody>\n",
       "</table>\n",
       "</div>"
      ],
      "text/plain": [
       "     姓名 考试1 考试2 考试3  考试4\n",
       "001  小陈  85  95  92   72\n",
       "002  小李  91  92  94   69\n",
       "003  小王  86  81  89   79\n",
       "004  小张  79  88  92   83\n",
       "005  小赵  90  80  98   82\n",
       "006  小周  83  95  90   76\n",
       "007  小杨  79  82  81   69"
      ]
     },
     "execution_count": 24,
     "metadata": {},
     "output_type": "execute_result"
    }
   ],
   "source": [
    "students.loc[\"007\"] = [\"小杨\", 79, 82, 81, 69]\n",
    "students"
   ]
  },
  {
   "cell_type": "code",
   "execution_count": 25,
   "id": "a9a43184-e6f0-4132-89a3-cd034df0792a",
   "metadata": {},
   "outputs": [
    {
     "data": {
      "text/html": [
       "<div>\n",
       "<style scoped>\n",
       "    .dataframe tbody tr th:only-of-type {\n",
       "        vertical-align: middle;\n",
       "    }\n",
       "\n",
       "    .dataframe tbody tr th {\n",
       "        vertical-align: top;\n",
       "    }\n",
       "\n",
       "    .dataframe thead th {\n",
       "        text-align: right;\n",
       "    }\n",
       "</style>\n",
       "<table border=\"1\" class=\"dataframe\">\n",
       "  <thead>\n",
       "    <tr style=\"text-align: right;\">\n",
       "      <th></th>\n",
       "      <th>姓名</th>\n",
       "      <th>考试1</th>\n",
       "      <th>考试2</th>\n",
       "      <th>考试3</th>\n",
       "      <th>考试4</th>\n",
       "    </tr>\n",
       "  </thead>\n",
       "  <tbody>\n",
       "    <tr>\n",
       "      <th>001</th>\n",
       "      <td>小陈</td>\n",
       "      <td>85</td>\n",
       "      <td>95</td>\n",
       "      <td>92</td>\n",
       "      <td>72</td>\n",
       "    </tr>\n",
       "    <tr>\n",
       "      <th>002</th>\n",
       "      <td>小李</td>\n",
       "      <td>91</td>\n",
       "      <td>92</td>\n",
       "      <td>94</td>\n",
       "      <td>69</td>\n",
       "    </tr>\n",
       "    <tr>\n",
       "      <th>003</th>\n",
       "      <td>小王</td>\n",
       "      <td>86</td>\n",
       "      <td>81</td>\n",
       "      <td>89</td>\n",
       "      <td>79</td>\n",
       "    </tr>\n",
       "    <tr>\n",
       "      <th>004</th>\n",
       "      <td>小张</td>\n",
       "      <td>79</td>\n",
       "      <td>88</td>\n",
       "      <td>92</td>\n",
       "      <td>83</td>\n",
       "    </tr>\n",
       "    <tr>\n",
       "      <th>005</th>\n",
       "      <td>小赵</td>\n",
       "      <td>90</td>\n",
       "      <td>80</td>\n",
       "      <td>98</td>\n",
       "      <td>82</td>\n",
       "    </tr>\n",
       "  </tbody>\n",
       "</table>\n",
       "</div>"
      ],
      "text/plain": [
       "     姓名 考试1 考试2 考试3  考试4\n",
       "001  小陈  85  95  92   72\n",
       "002  小李  91  92  94   69\n",
       "003  小王  86  81  89   79\n",
       "004  小张  79  88  92   83\n",
       "005  小赵  90  80  98   82"
      ]
     },
     "execution_count": 25,
     "metadata": {},
     "output_type": "execute_result"
    }
   ],
   "source": [
    "abcc = students.drop([\"006\", \"007\"])\n",
    "abcc"
   ]
  },
  {
   "cell_type": "code",
   "execution_count": 26,
   "id": "62d38d8f-73fa-433c-bf1b-c64cfed150f8",
   "metadata": {},
   "outputs": [
    {
     "data": {
      "text/html": [
       "<div>\n",
       "<style scoped>\n",
       "    .dataframe tbody tr th:only-of-type {\n",
       "        vertical-align: middle;\n",
       "    }\n",
       "\n",
       "    .dataframe tbody tr th {\n",
       "        vertical-align: top;\n",
       "    }\n",
       "\n",
       "    .dataframe thead th {\n",
       "        text-align: right;\n",
       "    }\n",
       "</style>\n",
       "<table border=\"1\" class=\"dataframe\">\n",
       "  <thead>\n",
       "    <tr style=\"text-align: right;\">\n",
       "      <th></th>\n",
       "      <th>姓名</th>\n",
       "      <th>考试1</th>\n",
       "      <th>考试3</th>\n",
       "    </tr>\n",
       "  </thead>\n",
       "  <tbody>\n",
       "    <tr>\n",
       "      <th>001</th>\n",
       "      <td>小陈</td>\n",
       "      <td>85</td>\n",
       "      <td>92</td>\n",
       "    </tr>\n",
       "    <tr>\n",
       "      <th>002</th>\n",
       "      <td>小李</td>\n",
       "      <td>91</td>\n",
       "      <td>94</td>\n",
       "    </tr>\n",
       "    <tr>\n",
       "      <th>003</th>\n",
       "      <td>小王</td>\n",
       "      <td>86</td>\n",
       "      <td>89</td>\n",
       "    </tr>\n",
       "    <tr>\n",
       "      <th>004</th>\n",
       "      <td>小张</td>\n",
       "      <td>79</td>\n",
       "      <td>92</td>\n",
       "    </tr>\n",
       "    <tr>\n",
       "      <th>005</th>\n",
       "      <td>小赵</td>\n",
       "      <td>90</td>\n",
       "      <td>98</td>\n",
       "    </tr>\n",
       "    <tr>\n",
       "      <th>006</th>\n",
       "      <td>小周</td>\n",
       "      <td>83</td>\n",
       "      <td>90</td>\n",
       "    </tr>\n",
       "    <tr>\n",
       "      <th>007</th>\n",
       "      <td>小杨</td>\n",
       "      <td>79</td>\n",
       "      <td>81</td>\n",
       "    </tr>\n",
       "  </tbody>\n",
       "</table>\n",
       "</div>"
      ],
      "text/plain": [
       "     姓名 考试1 考试3\n",
       "001  小陈  85  92\n",
       "002  小李  91  94\n",
       "003  小王  86  89\n",
       "004  小张  79  92\n",
       "005  小赵  90  98\n",
       "006  小周  83  90\n",
       "007  小杨  79  81"
      ]
     },
     "execution_count": 26,
     "metadata": {},
     "output_type": "execute_result"
    }
   ],
   "source": [
    "aabc = students.drop([\"考试2\", \"考试4\"], axis = 1)\n",
    "aabc"
   ]
  },
  {
   "cell_type": "code",
   "execution_count": 27,
   "id": "495dd941-76e2-4533-9bc4-5b7d6c982651",
   "metadata": {},
   "outputs": [
    {
     "data": {
      "text/html": [
       "<div>\n",
       "<style scoped>\n",
       "    .dataframe tbody tr th:only-of-type {\n",
       "        vertical-align: middle;\n",
       "    }\n",
       "\n",
       "    .dataframe tbody tr th {\n",
       "        vertical-align: top;\n",
       "    }\n",
       "\n",
       "    .dataframe thead th {\n",
       "        text-align: right;\n",
       "    }\n",
       "</style>\n",
       "<table border=\"1\" class=\"dataframe\">\n",
       "  <thead>\n",
       "    <tr style=\"text-align: right;\">\n",
       "      <th></th>\n",
       "      <th>考试1</th>\n",
       "      <th>考试2</th>\n",
       "      <th>考试3</th>\n",
       "      <th>考试4</th>\n",
       "    </tr>\n",
       "  </thead>\n",
       "  <tbody>\n",
       "    <tr>\n",
       "      <th>001</th>\n",
       "      <td>87</td>\n",
       "      <td>98</td>\n",
       "      <td>94</td>\n",
       "      <td>77</td>\n",
       "    </tr>\n",
       "    <tr>\n",
       "      <th>002</th>\n",
       "      <td>93</td>\n",
       "      <td>95</td>\n",
       "      <td>96</td>\n",
       "      <td>74</td>\n",
       "    </tr>\n",
       "    <tr>\n",
       "      <th>003</th>\n",
       "      <td>88</td>\n",
       "      <td>84</td>\n",
       "      <td>91</td>\n",
       "      <td>84</td>\n",
       "    </tr>\n",
       "    <tr>\n",
       "      <th>004</th>\n",
       "      <td>81</td>\n",
       "      <td>91</td>\n",
       "      <td>94</td>\n",
       "      <td>88</td>\n",
       "    </tr>\n",
       "    <tr>\n",
       "      <th>005</th>\n",
       "      <td>92</td>\n",
       "      <td>83</td>\n",
       "      <td>100</td>\n",
       "      <td>87</td>\n",
       "    </tr>\n",
       "    <tr>\n",
       "      <th>006</th>\n",
       "      <td>85</td>\n",
       "      <td>98</td>\n",
       "      <td>92</td>\n",
       "      <td>81</td>\n",
       "    </tr>\n",
       "    <tr>\n",
       "      <th>007</th>\n",
       "      <td>81</td>\n",
       "      <td>85</td>\n",
       "      <td>83</td>\n",
       "      <td>74</td>\n",
       "    </tr>\n",
       "  </tbody>\n",
       "</table>\n",
       "</div>"
      ],
      "text/plain": [
       "    考试1 考试2  考试3  考试4\n",
       "001  87  98   94   77\n",
       "002  93  95   96   74\n",
       "003  88  84   91   84\n",
       "004  81  91   94   88\n",
       "005  92  83  100   87\n",
       "006  85  98   92   81\n",
       "007  81  85   83   74"
      ]
     },
     "execution_count": 27,
     "metadata": {},
     "output_type": "execute_result"
    }
   ],
   "source": [
    "bonus = pd.Series({\"考试1\":2,\"考试2\":3,\"考试3\":2,\"考试4\":5})\n",
    "aaaaa = students[[\"考试1\",\"考试2\",\"考试3\",\"考试4\"]] + bonus\n",
    "aaaaa"
   ]
  },
  {
   "cell_type": "code",
   "execution_count": 28,
   "id": "478c48ba-3c3b-46d6-8626-72efc0e1cc7d",
   "metadata": {},
   "outputs": [
    {
     "data": {
      "text/html": [
       "<div>\n",
       "<style scoped>\n",
       "    .dataframe tbody tr th:only-of-type {\n",
       "        vertical-align: middle;\n",
       "    }\n",
       "\n",
       "    .dataframe tbody tr th {\n",
       "        vertical-align: top;\n",
       "    }\n",
       "\n",
       "    .dataframe thead th {\n",
       "        text-align: right;\n",
       "    }\n",
       "</style>\n",
       "<table border=\"1\" class=\"dataframe\">\n",
       "  <thead>\n",
       "    <tr style=\"text-align: right;\">\n",
       "      <th></th>\n",
       "      <th>姓名</th>\n",
       "      <th>考试1</th>\n",
       "      <th>考试2</th>\n",
       "      <th>考试3</th>\n",
       "      <th>考试4</th>\n",
       "    </tr>\n",
       "  </thead>\n",
       "  <tbody>\n",
       "    <tr>\n",
       "      <th>001</th>\n",
       "      <td>小陈</td>\n",
       "      <td>85</td>\n",
       "      <td>95</td>\n",
       "      <td>92</td>\n",
       "      <td>82</td>\n",
       "    </tr>\n",
       "    <tr>\n",
       "      <th>002</th>\n",
       "      <td>小李</td>\n",
       "      <td>91</td>\n",
       "      <td>92</td>\n",
       "      <td>94</td>\n",
       "      <td>79</td>\n",
       "    </tr>\n",
       "    <tr>\n",
       "      <th>003</th>\n",
       "      <td>小王</td>\n",
       "      <td>86</td>\n",
       "      <td>81</td>\n",
       "      <td>89</td>\n",
       "      <td>89</td>\n",
       "    </tr>\n",
       "    <tr>\n",
       "      <th>004</th>\n",
       "      <td>小张</td>\n",
       "      <td>79</td>\n",
       "      <td>88</td>\n",
       "      <td>92</td>\n",
       "      <td>93</td>\n",
       "    </tr>\n",
       "    <tr>\n",
       "      <th>005</th>\n",
       "      <td>小赵</td>\n",
       "      <td>90</td>\n",
       "      <td>80</td>\n",
       "      <td>98</td>\n",
       "      <td>92</td>\n",
       "    </tr>\n",
       "    <tr>\n",
       "      <th>006</th>\n",
       "      <td>小周</td>\n",
       "      <td>83</td>\n",
       "      <td>95</td>\n",
       "      <td>90</td>\n",
       "      <td>86</td>\n",
       "    </tr>\n",
       "    <tr>\n",
       "      <th>007</th>\n",
       "      <td>小杨</td>\n",
       "      <td>79</td>\n",
       "      <td>82</td>\n",
       "      <td>81</td>\n",
       "      <td>79</td>\n",
       "    </tr>\n",
       "  </tbody>\n",
       "</table>\n",
       "</div>"
      ],
      "text/plain": [
       "     姓名 考试1 考试2 考试3  考试4\n",
       "001  小陈  85  95  92   82\n",
       "002  小李  91  92  94   79\n",
       "003  小王  86  81  89   89\n",
       "004  小张  79  88  92   93\n",
       "005  小赵  90  80  98   92\n",
       "006  小周  83  95  90   86\n",
       "007  小杨  79  82  81   79"
      ]
     },
     "execution_count": 28,
     "metadata": {},
     "output_type": "execute_result"
    }
   ],
   "source": [
    "students[\"考试4\"] = students[\"考试4\"] + 10\n",
    "students"
   ]
  },
  {
   "cell_type": "markdown",
   "id": "9284af49-09be-4b51-a606-b3e281179e26",
   "metadata": {},
   "source": [
    "### DataFrame的统计方法  \n",
    "`df1.mean()` 默认沿axis = 0操作，返回的Series和列名对应。，求列的均值   \n",
    "`df1.mean(axis = 1)` 沿axis = 1操作，返回Series和索引对应，求行的均值  \n",
    "`df1.apply(传入一个函数, axis =0/1)` 将函数应用于行或者列（默认是列），若是列，返回一个Series以列名为索引，若是行，返回一个Series以行名（df的索引）为索引\n",
    "`df1.applymap(传入一个函数)` 将函数应用于每个元素上，返回一个新的df，不改变原df  \n",
    "`df1.describe()` 得到各列的统计信息，会自动忽略掉所有非数字的列  \n",
    "`df1[列名] = df1[列名].astype('int')` 可以更新使得每一列类型为数字，常常在decribe方法之前使用"
   ]
  },
  {
   "cell_type": "code",
   "execution_count": 29,
   "id": "bc86f1c5-b73b-4b81-a683-ed7fa6e9d273",
   "metadata": {},
   "outputs": [
    {
     "data": {
      "text/html": [
       "<div>\n",
       "<style scoped>\n",
       "    .dataframe tbody tr th:only-of-type {\n",
       "        vertical-align: middle;\n",
       "    }\n",
       "\n",
       "    .dataframe tbody tr th {\n",
       "        vertical-align: top;\n",
       "    }\n",
       "\n",
       "    .dataframe thead th {\n",
       "        text-align: right;\n",
       "    }\n",
       "</style>\n",
       "<table border=\"1\" class=\"dataframe\">\n",
       "  <thead>\n",
       "    <tr style=\"text-align: right;\">\n",
       "      <th></th>\n",
       "      <th>姓名</th>\n",
       "      <th>考试1</th>\n",
       "      <th>考试2</th>\n",
       "      <th>考试3</th>\n",
       "    </tr>\n",
       "  </thead>\n",
       "  <tbody>\n",
       "    <tr>\n",
       "      <th>001</th>\n",
       "      <td>小陈</td>\n",
       "      <td>85</td>\n",
       "      <td>95</td>\n",
       "      <td>92</td>\n",
       "    </tr>\n",
       "    <tr>\n",
       "      <th>002</th>\n",
       "      <td>小李</td>\n",
       "      <td>91</td>\n",
       "      <td>92</td>\n",
       "      <td>94</td>\n",
       "    </tr>\n",
       "    <tr>\n",
       "      <th>003</th>\n",
       "      <td>小王</td>\n",
       "      <td>86</td>\n",
       "      <td>81</td>\n",
       "      <td>89</td>\n",
       "    </tr>\n",
       "    <tr>\n",
       "      <th>004</th>\n",
       "      <td>小张</td>\n",
       "      <td>79</td>\n",
       "      <td>88</td>\n",
       "      <td>92</td>\n",
       "    </tr>\n",
       "    <tr>\n",
       "      <th>005</th>\n",
       "      <td>小赵</td>\n",
       "      <td>90</td>\n",
       "      <td>80</td>\n",
       "      <td>98</td>\n",
       "    </tr>\n",
       "    <tr>\n",
       "      <th>006</th>\n",
       "      <td>小周</td>\n",
       "      <td>83</td>\n",
       "      <td>95</td>\n",
       "      <td>90</td>\n",
       "    </tr>\n",
       "  </tbody>\n",
       "</table>\n",
       "</div>"
      ],
      "text/plain": [
       "     姓名 考试1 考试2 考试3\n",
       "001  小陈  85  95  92\n",
       "002  小李  91  92  94\n",
       "003  小王  86  81  89\n",
       "004  小张  79  88  92\n",
       "005  小赵  90  80  98\n",
       "006  小周  83  95  90"
      ]
     },
     "execution_count": 29,
     "metadata": {},
     "output_type": "execute_result"
    }
   ],
   "source": [
    "students = pd.DataFrame({\"001\":{\"姓名\":\"小陈\",\"考试1\":85,\"考试2\":95,\"考试3\":92},\n",
    "                         \"002\":{\"姓名\":\"小李\",\"考试1\":91,\"考试2\":92,\"考试3\":94},\n",
    "                         \"003\":{\"姓名\":\"小王\",\"考试1\":86,\"考试2\":81,\"考试3\":89},\n",
    "                         \"004\":{\"姓名\":\"小张\",\"考试1\":79,\"考试2\":88,\"考试3\":92},\n",
    "                         \"005\":{\"姓名\":\"小赵\",\"考试1\":90,\"考试2\":80,\"考试3\":98},\n",
    "                         \"006\":{\"姓名\":\"小周\",\"考试1\":83,\"考试2\":95,\"考试3\":90},})\n",
    "students = students.T\n",
    "students"
   ]
  },
  {
   "cell_type": "code",
   "execution_count": 30,
   "id": "e9414bee-13a3-4e02-b4bd-bfbc6fc8d19c",
   "metadata": {},
   "outputs": [
    {
     "data": {
      "text/html": [
       "<div>\n",
       "<style scoped>\n",
       "    .dataframe tbody tr th:only-of-type {\n",
       "        vertical-align: middle;\n",
       "    }\n",
       "\n",
       "    .dataframe tbody tr th {\n",
       "        vertical-align: top;\n",
       "    }\n",
       "\n",
       "    .dataframe thead th {\n",
       "        text-align: right;\n",
       "    }\n",
       "</style>\n",
       "<table border=\"1\" class=\"dataframe\">\n",
       "  <thead>\n",
       "    <tr style=\"text-align: right;\">\n",
       "      <th></th>\n",
       "      <th>姓名</th>\n",
       "      <th>平均分</th>\n",
       "    </tr>\n",
       "  </thead>\n",
       "  <tbody>\n",
       "    <tr>\n",
       "      <th>001</th>\n",
       "      <td>小陈</td>\n",
       "      <td>90.666667</td>\n",
       "    </tr>\n",
       "    <tr>\n",
       "      <th>002</th>\n",
       "      <td>小李</td>\n",
       "      <td>92.333333</td>\n",
       "    </tr>\n",
       "    <tr>\n",
       "      <th>003</th>\n",
       "      <td>小王</td>\n",
       "      <td>85.333333</td>\n",
       "    </tr>\n",
       "    <tr>\n",
       "      <th>004</th>\n",
       "      <td>小张</td>\n",
       "      <td>86.333333</td>\n",
       "    </tr>\n",
       "    <tr>\n",
       "      <th>005</th>\n",
       "      <td>小赵</td>\n",
       "      <td>89.333333</td>\n",
       "    </tr>\n",
       "    <tr>\n",
       "      <th>006</th>\n",
       "      <td>小周</td>\n",
       "      <td>89.333333</td>\n",
       "    </tr>\n",
       "  </tbody>\n",
       "</table>\n",
       "</div>"
      ],
      "text/plain": [
       "     姓名        平均分\n",
       "001  小陈  90.666667\n",
       "002  小李  92.333333\n",
       "003  小王  85.333333\n",
       "004  小张  86.333333\n",
       "005  小赵  89.333333\n",
       "006  小周  89.333333"
      ]
     },
     "execution_count": 30,
     "metadata": {},
     "output_type": "execute_result"
    }
   ],
   "source": [
    "socres = students.loc[:,\"考试1\":\"考试3\"]\n",
    "student_average = pd.DataFrame({\"姓名\":students[\"姓名\"],\"平均分\":socres.mean\n",
    "                                (axis = 1)})\n",
    "student_average"
   ]
  },
  {
   "cell_type": "code",
   "execution_count": 32,
   "id": "ea01e998-8f08-43a3-a2bc-b66a346f03ec",
   "metadata": {},
   "outputs": [
    {
     "data": {
      "text/plain": [
       "考试1    90\n",
       "考试2    95\n",
       "考试3    94\n",
       "dtype: int64"
      ]
     },
     "execution_count": 32,
     "metadata": {},
     "output_type": "execute_result"
    }
   ],
   "source": [
    "students.loc[:,\"考试1\":\"考试3\"].apply(lambda x: np.sort(x)[-2])"
   ]
  },
  {
   "cell_type": "code",
   "execution_count": 36,
   "id": "d52d3655-dfb1-4803-b29b-b351a5ca7d94",
   "metadata": {},
   "outputs": [
    {
     "name": "stderr",
     "output_type": "stream",
     "text": [
      "C:\\Users\\15541\\AppData\\Local\\Temp\\ipykernel_4756\\807576231.py:14: FutureWarning: DataFrame.applymap has been deprecated. Use DataFrame.map instead.\n",
      "  grades = students.loc[:,\"考试1\":\"考试3\"].applymap(get_grade)\n"
     ]
    },
    {
     "data": {
      "text/html": [
       "<div>\n",
       "<style scoped>\n",
       "    .dataframe tbody tr th:only-of-type {\n",
       "        vertical-align: middle;\n",
       "    }\n",
       "\n",
       "    .dataframe tbody tr th {\n",
       "        vertical-align: top;\n",
       "    }\n",
       "\n",
       "    .dataframe thead th {\n",
       "        text-align: right;\n",
       "    }\n",
       "</style>\n",
       "<table border=\"1\" class=\"dataframe\">\n",
       "  <thead>\n",
       "    <tr style=\"text-align: right;\">\n",
       "      <th></th>\n",
       "      <th>考试1</th>\n",
       "      <th>考试2</th>\n",
       "      <th>考试3</th>\n",
       "    </tr>\n",
       "  </thead>\n",
       "  <tbody>\n",
       "    <tr>\n",
       "      <th>001</th>\n",
       "      <td>B+</td>\n",
       "      <td>A+</td>\n",
       "      <td>A</td>\n",
       "    </tr>\n",
       "    <tr>\n",
       "      <th>002</th>\n",
       "      <td>A</td>\n",
       "      <td>A</td>\n",
       "      <td>A</td>\n",
       "    </tr>\n",
       "    <tr>\n",
       "      <th>003</th>\n",
       "      <td>B+</td>\n",
       "      <td>B</td>\n",
       "      <td>B+</td>\n",
       "    </tr>\n",
       "    <tr>\n",
       "      <th>004</th>\n",
       "      <td>C+</td>\n",
       "      <td>B+</td>\n",
       "      <td>A</td>\n",
       "    </tr>\n",
       "    <tr>\n",
       "      <th>005</th>\n",
       "      <td>A</td>\n",
       "      <td>B</td>\n",
       "      <td>A+</td>\n",
       "    </tr>\n",
       "    <tr>\n",
       "      <th>006</th>\n",
       "      <td>B</td>\n",
       "      <td>A+</td>\n",
       "      <td>A</td>\n",
       "    </tr>\n",
       "  </tbody>\n",
       "</table>\n",
       "</div>"
      ],
      "text/plain": [
       "    考试1 考试2 考试3\n",
       "001  B+  A+   A\n",
       "002   A   A   A\n",
       "003  B+   B  B+\n",
       "004  C+  B+   A\n",
       "005   A   B  A+\n",
       "006   B  A+   A"
      ]
     },
     "execution_count": 36,
     "metadata": {},
     "output_type": "execute_result"
    }
   ],
   "source": [
    "def get_grade(score):\n",
    "    if score >= 95:\n",
    "        return \"A+\"\n",
    "    elif score >= 90:\n",
    "        return \"A\"\n",
    "    elif score >= 85:\n",
    "        return \"B+\"\n",
    "    elif score >= 80:\n",
    "        return \"B\"\n",
    "    elif score >= 75:\n",
    "        return \"C+\"\n",
    "    else:\n",
    "        return \"C\"\n",
    "grades = students.loc[:,\"考试1\":\"考试3\"].applymap(get_grade)\n",
    "grades"
   ]
  },
  {
   "cell_type": "code",
   "execution_count": 40,
   "id": "5d691782-431d-48c4-9be6-dd7df18d0573",
   "metadata": {},
   "outputs": [
    {
     "data": {
      "text/html": [
       "<div>\n",
       "<style scoped>\n",
       "    .dataframe tbody tr th:only-of-type {\n",
       "        vertical-align: middle;\n",
       "    }\n",
       "\n",
       "    .dataframe tbody tr th {\n",
       "        vertical-align: top;\n",
       "    }\n",
       "\n",
       "    .dataframe thead th {\n",
       "        text-align: right;\n",
       "    }\n",
       "</style>\n",
       "<table border=\"1\" class=\"dataframe\">\n",
       "  <thead>\n",
       "    <tr style=\"text-align: right;\">\n",
       "      <th></th>\n",
       "      <th>姓名</th>\n",
       "      <th>考试1</th>\n",
       "      <th>考试2</th>\n",
       "      <th>考试3</th>\n",
       "    </tr>\n",
       "  </thead>\n",
       "  <tbody>\n",
       "    <tr>\n",
       "      <th>count</th>\n",
       "      <td>6</td>\n",
       "      <td>6</td>\n",
       "      <td>6</td>\n",
       "      <td>6</td>\n",
       "    </tr>\n",
       "    <tr>\n",
       "      <th>unique</th>\n",
       "      <td>6</td>\n",
       "      <td>6</td>\n",
       "      <td>5</td>\n",
       "      <td>5</td>\n",
       "    </tr>\n",
       "    <tr>\n",
       "      <th>top</th>\n",
       "      <td>小陈</td>\n",
       "      <td>85</td>\n",
       "      <td>95</td>\n",
       "      <td>92</td>\n",
       "    </tr>\n",
       "    <tr>\n",
       "      <th>freq</th>\n",
       "      <td>1</td>\n",
       "      <td>1</td>\n",
       "      <td>2</td>\n",
       "      <td>2</td>\n",
       "    </tr>\n",
       "  </tbody>\n",
       "</table>\n",
       "</div>"
      ],
      "text/plain": [
       "        姓名  考试1  考试2  考试3\n",
       "count    6    6    6    6\n",
       "unique   6    6    5    5\n",
       "top     小陈   85   95   92\n",
       "freq     1    1    2    2"
      ]
     },
     "execution_count": 40,
     "metadata": {},
     "output_type": "execute_result"
    }
   ],
   "source": [
    "students.describe()"
   ]
  },
  {
   "cell_type": "code",
   "execution_count": 42,
   "id": "d722c79e-9438-47aa-bbd2-4f5092ee3564",
   "metadata": {},
   "outputs": [
    {
     "data": {
      "text/html": [
       "<div>\n",
       "<style scoped>\n",
       "    .dataframe tbody tr th:only-of-type {\n",
       "        vertical-align: middle;\n",
       "    }\n",
       "\n",
       "    .dataframe tbody tr th {\n",
       "        vertical-align: top;\n",
       "    }\n",
       "\n",
       "    .dataframe thead th {\n",
       "        text-align: right;\n",
       "    }\n",
       "</style>\n",
       "<table border=\"1\" class=\"dataframe\">\n",
       "  <thead>\n",
       "    <tr style=\"text-align: right;\">\n",
       "      <th></th>\n",
       "      <th>考试1</th>\n",
       "      <th>考试2</th>\n",
       "      <th>考试3</th>\n",
       "    </tr>\n",
       "  </thead>\n",
       "  <tbody>\n",
       "    <tr>\n",
       "      <th>count</th>\n",
       "      <td>6.000000</td>\n",
       "      <td>6.000000</td>\n",
       "      <td>6.000000</td>\n",
       "    </tr>\n",
       "    <tr>\n",
       "      <th>mean</th>\n",
       "      <td>85.666667</td>\n",
       "      <td>88.500000</td>\n",
       "      <td>92.500000</td>\n",
       "    </tr>\n",
       "    <tr>\n",
       "      <th>std</th>\n",
       "      <td>4.457204</td>\n",
       "      <td>6.715653</td>\n",
       "      <td>3.209361</td>\n",
       "    </tr>\n",
       "    <tr>\n",
       "      <th>min</th>\n",
       "      <td>79.000000</td>\n",
       "      <td>80.000000</td>\n",
       "      <td>89.000000</td>\n",
       "    </tr>\n",
       "    <tr>\n",
       "      <th>25%</th>\n",
       "      <td>83.500000</td>\n",
       "      <td>82.750000</td>\n",
       "      <td>90.500000</td>\n",
       "    </tr>\n",
       "    <tr>\n",
       "      <th>50%</th>\n",
       "      <td>85.500000</td>\n",
       "      <td>90.000000</td>\n",
       "      <td>92.000000</td>\n",
       "    </tr>\n",
       "    <tr>\n",
       "      <th>75%</th>\n",
       "      <td>89.000000</td>\n",
       "      <td>94.250000</td>\n",
       "      <td>93.500000</td>\n",
       "    </tr>\n",
       "    <tr>\n",
       "      <th>max</th>\n",
       "      <td>91.000000</td>\n",
       "      <td>95.000000</td>\n",
       "      <td>98.000000</td>\n",
       "    </tr>\n",
       "  </tbody>\n",
       "</table>\n",
       "</div>"
      ],
      "text/plain": [
       "             考试1        考试2        考试3\n",
       "count   6.000000   6.000000   6.000000\n",
       "mean   85.666667  88.500000  92.500000\n",
       "std     4.457204   6.715653   3.209361\n",
       "min    79.000000  80.000000  89.000000\n",
       "25%    83.500000  82.750000  90.500000\n",
       "50%    85.500000  90.000000  92.000000\n",
       "75%    89.000000  94.250000  93.500000\n",
       "max    91.000000  95.000000  98.000000"
      ]
     },
     "execution_count": 42,
     "metadata": {},
     "output_type": "execute_result"
    }
   ],
   "source": [
    "students[\"考试1\"] = students[\"考试1\"].astype('int')\n",
    "students[\"考试2\"] = students[\"考试2\"].astype('int')\n",
    "students[\"考试3\"] = students[\"考试3\"].astype('int')\n",
    "students.describe()"
   ]
  },
  {
   "cell_type": "markdown",
   "id": "224827be-9943-479c-bd94-c88d473533d5",
   "metadata": {},
   "source": [
    "# 数据分析流程"
   ]
  },
  {
   "cell_type": "markdown",
   "id": "e1df6609-6c27-4291-a3e5-715d12520c15",
   "metadata": {},
   "source": [
    "## 获取数据"
   ]
  },
  {
   "cell_type": "markdown",
   "id": "2b2bcc94-8d93-4970-8b8d-24e4f1ebb1cf",
   "metadata": {},
   "source": [
    "![公开数据集](https://img.picui.cn/free/2025/05/31/683ac22195fec.jpg)"
   ]
  },
  {
   "cell_type": "markdown",
   "id": "0dc30b58-e5db-48cd-8a53-5f9679f5de2c",
   "metadata": {},
   "source": [
    "### 获得公开数据的方式有  \n",
    "- 直接下载\n",
    "- 通过爬虫获取数据，且数据需要额外解析（注意红线）\n",
    "- 通过API获取数据，数据易于提取和使用"
   ]
  },
  {
   "cell_type": "markdown",
   "id": "162574ec-dcfb-41af-8776-e29b58c100ec",
   "metadata": {},
   "source": [
    "## 常见数据格式"
   ]
  },
  {
   "cell_type": "markdown",
   "id": "56b4c809-3136-4a9c-b6f8-4696f89264e5",
   "metadata": {},
   "source": [
    "### JSON (JavaScript Object Notation)"
   ]
  },
  {
   "cell_type": "markdown",
   "id": "f3d96bc3-25bf-4721-9389-50ee8049d19b",
   "metadata": {},
   "source": [
    "注：文件名后缀是计算机打开该文件的方式。例：如果原是txt文件，修改后缀为mp3，计算机会用mp3程序（音乐播放器）来打开该文件，从而产生错误。但是修改后缀并不改变实际格式！我们聊文件格式，不仅聊后缀，还聊文件内容实际的格式规则。"
   ]
  },
  {
   "cell_type": "markdown",
   "id": "f1ca7c0b-dab1-48fc-84f2-21430d2edafd",
   "metadata": {},
   "source": [
    "用API获取数据，很多时候数据都是以JSON格式返回的"
   ]
  },
  {
   "cell_type": "markdown",
   "id": "5b36e484-bd56-4e95-aa22-2a7ed9e690b9",
   "metadata": {},
   "source": [
    "### JSON的数据结构  \n",
    "`JSON对象`和`JSON数组`，可以分别转换成Python字典和列表"
   ]
  },
  {
   "cell_type": "markdown",
   "id": "034e5317-8a14-47e8-b2fa-ed171ac2877c",
   "metadata": {},
   "source": [
    "![JSON对象](https://img.picui.cn/free/2025/05/31/683ac61bd5d3b.png)  \n",
    "以花括号开头和结尾"
   ]
  },
  {
   "cell_type": "markdown",
   "id": "1725eeb4-261a-4a5e-8ebe-0fd06c4b9c76",
   "metadata": {},
   "source": [
    "![JSON数组](https://img.picui.cn/free/2025/05/31/683ac6c7a0ac4.png)  \n",
    "以中括号开头和结尾"
   ]
  },
  {
   "cell_type": "markdown",
   "id": "0b105171-7f14-4377-b41f-c2de0c2c8524",
   "metadata": {},
   "source": [
    "JSON数据里面只能用字符串作为键，且必须用双引号"
   ]
  },
  {
   "cell_type": "markdown",
   "id": "db2bc203-e78b-4315-b3ca-40974679e1fe",
   "metadata": {},
   "source": [
    "### 类型  \n",
    "- 字符串  `\"str\"` （注意双引号）\n",
    "- 数字  `31`\n",
    "- 布尔值  `true/false` （注意小写开头）\n",
    "- 数组  `[\"hi\",7]`\n",
    "- 对象  `{\"age\":25}`\n",
    "- 空值  `null`  \n",
    "支持嵌套"
   ]
  },
  {
   "cell_type": "markdown",
   "id": "9f0778d4-a262-42da-9af8-63c86c272452",
   "metadata": {},
   "source": [
    "## 读取数据  \n",
    "使用pandas库进行"
   ]
  },
  {
   "cell_type": "markdown",
   "id": "f180af3d-0652-485e-a254-7502cd569e1d",
   "metadata": {},
   "source": [
    "函数`pd.read_json(传入文件路径)`用于读JSON文件，返回DF  \n",
    "read_json函数会帮助完成文件读取、JSON解析、转成DataFrame的全流程"
   ]
  },
  {
   "cell_type": "code",
   "execution_count": 3,
   "id": "e0e360e8-b09a-46c9-bc5d-bae00627db44",
   "metadata": {},
   "outputs": [
    {
     "data": {
      "text/html": [
       "<div>\n",
       "<style scoped>\n",
       "    .dataframe tbody tr th:only-of-type {\n",
       "        vertical-align: middle;\n",
       "    }\n",
       "\n",
       "    .dataframe tbody tr th {\n",
       "        vertical-align: top;\n",
       "    }\n",
       "\n",
       "    .dataframe thead th {\n",
       "        text-align: right;\n",
       "    }\n",
       "</style>\n",
       "<table border=\"1\" class=\"dataframe\">\n",
       "  <thead>\n",
       "    <tr style=\"text-align: right;\">\n",
       "      <th></th>\n",
       "      <th>questionType</th>\n",
       "      <th>asin</th>\n",
       "      <th>answerTime</th>\n",
       "      <th>unixTime</th>\n",
       "      <th>question</th>\n",
       "      <th>answerType</th>\n",
       "      <th>answer</th>\n",
       "    </tr>\n",
       "  </thead>\n",
       "  <tbody>\n",
       "    <tr>\n",
       "      <th>0</th>\n",
       "      <td>yes/no</td>\n",
       "      <td>1466736038</td>\n",
       "      <td>Mar 8, 2014</td>\n",
       "      <td>1394265600</td>\n",
       "      <td>Is there a SIM card in it?</td>\n",
       "      <td>Y</td>\n",
       "      <td>Yes. The Galaxy SIII accommodates a micro SIM ...</td>\n",
       "    </tr>\n",
       "    <tr>\n",
       "      <th>1</th>\n",
       "      <td>yes/no</td>\n",
       "      <td>1466736038</td>\n",
       "      <td>Jan 29, 2015</td>\n",
       "      <td>1422518400</td>\n",
       "      <td>Is this phone new, with 1 year manufacture war...</td>\n",
       "      <td>?</td>\n",
       "      <td>It is new but I was not able to get it activat...</td>\n",
       "    </tr>\n",
       "    <tr>\n",
       "      <th>2</th>\n",
       "      <td>yes/no</td>\n",
       "      <td>1466736038</td>\n",
       "      <td>Nov 30, 2014</td>\n",
       "      <td>1417334400</td>\n",
       "      <td>can in it be used abroad with a different carr...</td>\n",
       "      <td>Y</td>\n",
       "      <td>Yes</td>\n",
       "    </tr>\n",
       "    <tr>\n",
       "      <th>3</th>\n",
       "      <td>open-ended</td>\n",
       "      <td>1466736038</td>\n",
       "      <td>Nov 3, 2014</td>\n",
       "      <td>1415001600</td>\n",
       "      <td>What is the warranty on this?</td>\n",
       "      <td>NaN</td>\n",
       "      <td>No warranty</td>\n",
       "    </tr>\n",
       "    <tr>\n",
       "      <th>4</th>\n",
       "      <td>yes/no</td>\n",
       "      <td>1466736038</td>\n",
       "      <td>Oct 2, 2014</td>\n",
       "      <td>1412233200</td>\n",
       "      <td>Does this phone use the regular Sim card (the ...</td>\n",
       "      <td>?</td>\n",
       "      <td>it takes mini sim</td>\n",
       "    </tr>\n",
       "    <tr>\n",
       "      <th>5</th>\n",
       "      <td>open-ended</td>\n",
       "      <td>1466736038</td>\n",
       "      <td>Sep 11, 2014</td>\n",
       "      <td>1410418800</td>\n",
       "      <td>how much time you need to send me this product...</td>\n",
       "      <td>NaN</td>\n",
       "      <td>If you choose expedited shipping you will have...</td>\n",
       "    </tr>\n",
       "    <tr>\n",
       "      <th>6</th>\n",
       "      <td>yes/no</td>\n",
       "      <td>1621911888</td>\n",
       "      <td>Dec 13, 2013</td>\n",
       "      <td>1386921600</td>\n",
       "      <td>Is it unlocked?</td>\n",
       "      <td>Y</td>\n",
       "      <td>yes</td>\n",
       "    </tr>\n",
       "  </tbody>\n",
       "</table>\n",
       "</div>"
      ],
      "text/plain": [
       "  questionType        asin    answerTime    unixTime  \\\n",
       "0       yes/no  1466736038   Mar 8, 2014  1394265600   \n",
       "1       yes/no  1466736038  Jan 29, 2015  1422518400   \n",
       "2       yes/no  1466736038  Nov 30, 2014  1417334400   \n",
       "3   open-ended  1466736038   Nov 3, 2014  1415001600   \n",
       "4       yes/no  1466736038   Oct 2, 2014  1412233200   \n",
       "5   open-ended  1466736038  Sep 11, 2014  1410418800   \n",
       "6       yes/no  1621911888  Dec 13, 2013  1386921600   \n",
       "\n",
       "                                            question answerType  \\\n",
       "0                         Is there a SIM card in it?          Y   \n",
       "1  Is this phone new, with 1 year manufacture war...          ?   \n",
       "2  can in it be used abroad with a different carr...          Y   \n",
       "3                      What is the warranty on this?        NaN   \n",
       "4  Does this phone use the regular Sim card (the ...          ?   \n",
       "5  how much time you need to send me this product...        NaN   \n",
       "6                                    Is it unlocked?          Y   \n",
       "\n",
       "                                              answer  \n",
       "0  Yes. The Galaxy SIII accommodates a micro SIM ...  \n",
       "1  It is new but I was not able to get it activat...  \n",
       "2                                                Yes  \n",
       "3                                        No warranty  \n",
       "4                                  it takes mini sim  \n",
       "5  If you choose expedited shipping you will have...  \n",
       "6                                                yes  "
      ]
     },
     "execution_count": 3,
     "metadata": {},
     "output_type": "execute_result"
    }
   ],
   "source": [
    "import pandas as pd\n",
    "file1 = pd.read_json(r\"C:\\Users\\15541\\Desktop\\数据分析\\数据集\\cell_phones_survey.json\")\n",
    "file1"
   ]
  },
  {
   "cell_type": "markdown",
   "id": "132504e3-596c-4d9e-b4b4-847d9ec26fdd",
   "metadata": {},
   "source": [
    "### CSV (Comma-Separated Values)\n",
    "CSV是纯文本，第一行大部分是表头，即列名；每一行数据独占一行，每一行里值的数量相同，逗号分隔符数量相同。  \n",
    "CSV可以用Excel打开并编辑，同时可以将Excel编辑好的表格导出为CSV  \n",
    "注意！当一个CSV文件大小有1G以上时，不要用Excel打开！！！反之用代码编辑器或者文本编辑器打开，最好是：用代码读取，转换成DataFrame，然后用pandas方法，想看几行就看几行，如`df1.heads()`"
   ]
  },
  {
   "cell_type": "markdown",
   "id": "7e2ce697-4a21-4f9e-8ed8-c16c338a8b14",
   "metadata": {},
   "source": [
    "### 用代码读取和解析CSV文件"
   ]
  },
  {
   "cell_type": "markdown",
   "id": "33e368ee-6a09-459a-83ac-672085b7b527",
   "metadata": {},
   "source": [
    "函数`pd.read_csv(传入文件路径)`读取CSV文件，返回DF  \n",
    "如果csv第一行不是表头，则将header设置为None，即`pd.read_csv(xxx,header=None)`  \n",
    "如果想指定一列作为DF的标签索引，设置index_col参数，即`pd.read_csv(xxx, index_col=列名)`"
   ]
  },
  {
   "cell_type": "code",
   "execution_count": 5,
   "id": "664d7b83-f2fd-4cc5-ab35-15f568677836",
   "metadata": {},
   "outputs": [
    {
     "name": "stderr",
     "output_type": "stream",
     "text": [
      "C:\\Users\\15541\\AppData\\Local\\Temp\\ipykernel_20804\\2118650158.py:2: DtypeWarning: Columns (108) have mixed types. Specify dtype option on import or set low_memory=False.\n",
      "  file2 = pd.read_csv(r\"C:\\Users\\15541\\Desktop\\数据分析\\数据集\\fifa_players.csv\",index_col=\"player_id\")\n"
     ]
    },
    {
     "data": {
      "text/html": [
       "<div>\n",
       "<style scoped>\n",
       "    .dataframe tbody tr th:only-of-type {\n",
       "        vertical-align: middle;\n",
       "    }\n",
       "\n",
       "    .dataframe tbody tr th {\n",
       "        vertical-align: top;\n",
       "    }\n",
       "\n",
       "    .dataframe thead th {\n",
       "        text-align: right;\n",
       "    }\n",
       "</style>\n",
       "<table border=\"1\" class=\"dataframe\">\n",
       "  <thead>\n",
       "    <tr style=\"text-align: right;\">\n",
       "      <th></th>\n",
       "      <th>player_url</th>\n",
       "      <th>fifa_version</th>\n",
       "      <th>fifa_update</th>\n",
       "      <th>fifa_update_date</th>\n",
       "      <th>short_name</th>\n",
       "      <th>long_name</th>\n",
       "      <th>player_positions</th>\n",
       "      <th>overall</th>\n",
       "      <th>potential</th>\n",
       "      <th>value_eur</th>\n",
       "      <th>...</th>\n",
       "      <th>cdm</th>\n",
       "      <th>rdm</th>\n",
       "      <th>rwb</th>\n",
       "      <th>lb</th>\n",
       "      <th>lcb</th>\n",
       "      <th>cb</th>\n",
       "      <th>rcb</th>\n",
       "      <th>rb</th>\n",
       "      <th>gk</th>\n",
       "      <th>player_face_url</th>\n",
       "    </tr>\n",
       "    <tr>\n",
       "      <th>player_id</th>\n",
       "      <th></th>\n",
       "      <th></th>\n",
       "      <th></th>\n",
       "      <th></th>\n",
       "      <th></th>\n",
       "      <th></th>\n",
       "      <th></th>\n",
       "      <th></th>\n",
       "      <th></th>\n",
       "      <th></th>\n",
       "      <th></th>\n",
       "      <th></th>\n",
       "      <th></th>\n",
       "      <th></th>\n",
       "      <th></th>\n",
       "      <th></th>\n",
       "      <th></th>\n",
       "      <th></th>\n",
       "      <th></th>\n",
       "      <th></th>\n",
       "      <th></th>\n",
       "    </tr>\n",
       "  </thead>\n",
       "  <tbody>\n",
       "    <tr>\n",
       "      <th>158023</th>\n",
       "      <td>/player/158023/lionel-messi/150002</td>\n",
       "      <td>15</td>\n",
       "      <td>2</td>\n",
       "      <td>2014-09-18</td>\n",
       "      <td>L. Messi</td>\n",
       "      <td>Lionel Andrés Messi Cuccittini</td>\n",
       "      <td>CF</td>\n",
       "      <td>93</td>\n",
       "      <td>95</td>\n",
       "      <td>100500000.0</td>\n",
       "      <td>...</td>\n",
       "      <td>62+3</td>\n",
       "      <td>62+3</td>\n",
       "      <td>62+3</td>\n",
       "      <td>54+3</td>\n",
       "      <td>45+3</td>\n",
       "      <td>45+3</td>\n",
       "      <td>45+3</td>\n",
       "      <td>54+3</td>\n",
       "      <td>15+3</td>\n",
       "      <td>https://cdn.sofifa.net/players/158/023/15_120.png</td>\n",
       "    </tr>\n",
       "    <tr>\n",
       "      <th>20801</th>\n",
       "      <td>/player/20801/c-ronaldo-dos-santos-aveiro/150002</td>\n",
       "      <td>15</td>\n",
       "      <td>2</td>\n",
       "      <td>2014-09-18</td>\n",
       "      <td>Cristiano Ronaldo</td>\n",
       "      <td>Cristiano Ronaldo dos Santos Aveiro</td>\n",
       "      <td>LW, LM</td>\n",
       "      <td>92</td>\n",
       "      <td>92</td>\n",
       "      <td>79000000.0</td>\n",
       "      <td>...</td>\n",
       "      <td>63+3</td>\n",
       "      <td>63+3</td>\n",
       "      <td>63+3</td>\n",
       "      <td>57+3</td>\n",
       "      <td>52+3</td>\n",
       "      <td>52+3</td>\n",
       "      <td>52+3</td>\n",
       "      <td>57+3</td>\n",
       "      <td>16+3</td>\n",
       "      <td>https://cdn.sofifa.net/players/020/801/15_120.png</td>\n",
       "    </tr>\n",
       "    <tr>\n",
       "      <th>9014</th>\n",
       "      <td>/player/9014/arjen-robben/150002</td>\n",
       "      <td>15</td>\n",
       "      <td>2</td>\n",
       "      <td>2014-09-18</td>\n",
       "      <td>A. Robben</td>\n",
       "      <td>Arjen Robben</td>\n",
       "      <td>RM, LM, RW</td>\n",
       "      <td>90</td>\n",
       "      <td>90</td>\n",
       "      <td>54500000.0</td>\n",
       "      <td>...</td>\n",
       "      <td>64+3</td>\n",
       "      <td>64+3</td>\n",
       "      <td>64+3</td>\n",
       "      <td>55+3</td>\n",
       "      <td>46+3</td>\n",
       "      <td>46+3</td>\n",
       "      <td>46+3</td>\n",
       "      <td>55+3</td>\n",
       "      <td>14+3</td>\n",
       "      <td>https://cdn.sofifa.net/players/009/014/15_120.png</td>\n",
       "    </tr>\n",
       "    <tr>\n",
       "      <th>41236</th>\n",
       "      <td>/player/41236/zlatan-ibrahimovic/150002</td>\n",
       "      <td>15</td>\n",
       "      <td>2</td>\n",
       "      <td>2014-09-18</td>\n",
       "      <td>Z. Ibrahimović</td>\n",
       "      <td>Zlatan Ibrahimović</td>\n",
       "      <td>ST</td>\n",
       "      <td>90</td>\n",
       "      <td>90</td>\n",
       "      <td>52500000.0</td>\n",
       "      <td>...</td>\n",
       "      <td>65+3</td>\n",
       "      <td>65+3</td>\n",
       "      <td>61+3</td>\n",
       "      <td>56+3</td>\n",
       "      <td>55+3</td>\n",
       "      <td>55+3</td>\n",
       "      <td>55+3</td>\n",
       "      <td>56+3</td>\n",
       "      <td>17+3</td>\n",
       "      <td>https://cdn.sofifa.net/players/041/236/15_120.png</td>\n",
       "    </tr>\n",
       "    <tr>\n",
       "      <th>167495</th>\n",
       "      <td>/player/167495/manuel-neuer/150002</td>\n",
       "      <td>15</td>\n",
       "      <td>2</td>\n",
       "      <td>2014-09-18</td>\n",
       "      <td>M. Neuer</td>\n",
       "      <td>Manuel Peter Neuer</td>\n",
       "      <td>GK</td>\n",
       "      <td>90</td>\n",
       "      <td>90</td>\n",
       "      <td>63500000.0</td>\n",
       "      <td>...</td>\n",
       "      <td>40+3</td>\n",
       "      <td>40+3</td>\n",
       "      <td>36+3</td>\n",
       "      <td>36+3</td>\n",
       "      <td>38+3</td>\n",
       "      <td>38+3</td>\n",
       "      <td>38+3</td>\n",
       "      <td>36+3</td>\n",
       "      <td>87+3</td>\n",
       "      <td>https://cdn.sofifa.net/players/167/495/15_120.png</td>\n",
       "    </tr>\n",
       "  </tbody>\n",
       "</table>\n",
       "<p>5 rows × 109 columns</p>\n",
       "</div>"
      ],
      "text/plain": [
       "                                                 player_url  fifa_version  \\\n",
       "player_id                                                                   \n",
       "158023                   /player/158023/lionel-messi/150002            15   \n",
       "20801      /player/20801/c-ronaldo-dos-santos-aveiro/150002            15   \n",
       "9014                       /player/9014/arjen-robben/150002            15   \n",
       "41236               /player/41236/zlatan-ibrahimovic/150002            15   \n",
       "167495                   /player/167495/manuel-neuer/150002            15   \n",
       "\n",
       "           fifa_update fifa_update_date         short_name  \\\n",
       "player_id                                                    \n",
       "158023               2       2014-09-18           L. Messi   \n",
       "20801                2       2014-09-18  Cristiano Ronaldo   \n",
       "9014                 2       2014-09-18          A. Robben   \n",
       "41236                2       2014-09-18     Z. Ibrahimović   \n",
       "167495               2       2014-09-18           M. Neuer   \n",
       "\n",
       "                                     long_name player_positions  overall  \\\n",
       "player_id                                                                  \n",
       "158023          Lionel Andrés Messi Cuccittini               CF       93   \n",
       "20801      Cristiano Ronaldo dos Santos Aveiro           LW, LM       92   \n",
       "9014                              Arjen Robben       RM, LM, RW       90   \n",
       "41236                       Zlatan Ibrahimović               ST       90   \n",
       "167495                      Manuel Peter Neuer               GK       90   \n",
       "\n",
       "           potential    value_eur  ...   cdm   rdm   rwb    lb   lcb    cb  \\\n",
       "player_id                          ...                                       \n",
       "158023            95  100500000.0  ...  62+3  62+3  62+3  54+3  45+3  45+3   \n",
       "20801             92   79000000.0  ...  63+3  63+3  63+3  57+3  52+3  52+3   \n",
       "9014              90   54500000.0  ...  64+3  64+3  64+3  55+3  46+3  46+3   \n",
       "41236             90   52500000.0  ...  65+3  65+3  61+3  56+3  55+3  55+3   \n",
       "167495            90   63500000.0  ...  40+3  40+3  36+3  36+3  38+3  38+3   \n",
       "\n",
       "            rcb    rb    gk                                    player_face_url  \n",
       "player_id                                                                       \n",
       "158023     45+3  54+3  15+3  https://cdn.sofifa.net/players/158/023/15_120.png  \n",
       "20801      52+3  57+3  16+3  https://cdn.sofifa.net/players/020/801/15_120.png  \n",
       "9014       46+3  55+3  14+3  https://cdn.sofifa.net/players/009/014/15_120.png  \n",
       "41236      55+3  56+3  17+3  https://cdn.sofifa.net/players/041/236/15_120.png  \n",
       "167495     38+3  36+3  87+3  https://cdn.sofifa.net/players/167/495/15_120.png  \n",
       "\n",
       "[5 rows x 109 columns]"
      ]
     },
     "execution_count": 5,
     "metadata": {},
     "output_type": "execute_result"
    }
   ],
   "source": [
    "import pandas as pd\n",
    "file2 = pd.read_csv(r\"C:\\Users\\15541\\Desktop\\数据分析\\数据集\\fifa_players.csv\",index_col=\"player_id\")\n",
    "file2.head()"
   ]
  },
  {
   "cell_type": "markdown",
   "id": "007b99bf-8712-4c06-848b-722c8b6a44bc",
   "metadata": {},
   "source": [
    "由上面的df可见，当列数量非常多的时候，中间的有些列会被自动省略（默认20列）  \n",
    "使用`pd.set_option(\"display.max_columns\",希望列数上限)`来提高看到的列数上限"
   ]
  },
  {
   "cell_type": "markdown",
   "id": "20a60201-b0fc-42fa-844f-1fb24dd66c0f",
   "metadata": {},
   "source": [
    "当某一个值长度太长，也会被省略（默认50）  \n",
    "使用`pd.set_option(\"display.max_colwidth\",希望看值的长度上限)`来提高看到的值的长度上限"
   ]
  },
  {
   "cell_type": "markdown",
   "id": "974b5cbc-16f0-449b-978b-93968723080d",
   "metadata": {},
   "source": [
    "想看到开头几行，使用`.head(行数)`  \n",
    "想看到结尾几行，使用`.tail(行数)`  \n",
    "什么参数都不传入，默认返回5行"
   ]
  },
  {
   "cell_type": "markdown",
   "id": "d4181f64-98a3-429a-8623-b22d165a6614",
   "metadata": {},
   "source": [
    "想快速了解df，使用`.info()`方法"
   ]
  },
  {
   "cell_type": "markdown",
   "id": "7dea8156-39f4-47ba-8b6e-9dfd72b3a8d6",
   "metadata": {},
   "source": [
    "想了解统计信息，使用`.describe()`方法"
   ]
  },
  {
   "cell_type": "markdown",
   "id": "e0cbc17f-5b31-43a7-9ec2-dafec5ac378e",
   "metadata": {},
   "source": [
    "## 评估数据  "
   ]
  },
  {
   "cell_type": "markdown",
   "id": "274c1352-1546-4672-98af-179fc4a2fb50",
   "metadata": {},
   "source": [
    "### 结构  \n",
    "- 乱数据\n",
    "- 整洁数据：每列是一个变量，每行是一个观察值，每个单元格是一个值"
   ]
  },
  {
   "cell_type": "markdown",
   "id": "6d4c8087-c7ff-432a-b4f2-9ce280442afa",
   "metadata": {},
   "source": [
    "### 内容\n",
    "- 脏数据（丢失数据、重复数据、不一致数据（混用）、无效或错误数据）\n",
    "- 干净数据"
   ]
  },
  {
   "cell_type": "markdown",
   "id": "275ef0f5-e719-4d57-830e-241233ce523b",
   "metadata": {},
   "source": [
    "先看`结构`\n",
    "- 用`df1.info()`获取概况\n",
    "- 获取开头/结尾N行，是否符合整洁数据要求，用`df1.head(n)`或者`df1.sample(n)`随机选择行，如果出现值或列展示不全，使用`pd.set_option(xxx)`调整上限"
   ]
  },
  {
   "cell_type": "markdown",
   "id": "e7481bb8-65f4-47aa-8afc-e7825db4eb0f",
   "metadata": {},
   "source": [
    "再看`内容`  \n",
    "### 评估丢失数据\n",
    "- 使用`df1.info()`评估丢失数据，将每列non-null的数量和rangeindex即行的数量进行对比\n",
    "- 或者使用`isnull`方法（适用于Series和DF），即`series1.isnull().sum()`或`df1.isnull().sum()`，series返回一列中缺失值的情况，df返回每列中缺失值的情况（布尔值）。如果结果都为0，则无缺失值\n",
    "- 提取丢失数据的行，使用`df1[df1[列名].isnull()]`本质上就是在获取符合条件（True）的行"
   ]
  },
  {
   "cell_type": "markdown",
   "id": "d35702b5-a9aa-4dc9-a319-807e7fdf4560",
   "metadata": {},
   "source": [
    "### 评估重复数据  \n",
    "- 使用`series1.duplicated()`或`df1.duplicated()`\n",
    "- 由于DF的duplicated方法是查看两行是否完全一样，所以想指定检查某几个变量是否重复时，传入参数，即`df1.duplicated(subset=[列名1,列名2])`，只有规定的变量重复时，对应duplicated变量才是True\n",
    "- 提取重复数据的行，同上面，即`df1[df1.duplicated(subset=[列名1,列名2])`"
   ]
  },
  {
   "cell_type": "markdown",
   "id": "222b3f4a-c416-4158-a232-5996d50ee6d2",
   "metadata": {},
   "source": [
    "### 评估不一致数据  \n",
    "- 使用`series1.value_counts()`"
   ]
  },
  {
   "cell_type": "markdown",
   "id": "904e5820-d4c7-4596-934d-848969668565",
   "metadata": {},
   "source": [
    "### 评估无效或错误数据  \n",
    "- 使用`series1.sort_value()`或`df1.describe()`查看异常大或小值"
   ]
  },
  {
   "cell_type": "markdown",
   "id": "f840dbcf-011f-41e5-a6a4-894a3b750767",
   "metadata": {},
   "source": [
    "## 清洗数据  \n",
    "- 为了区分原始df和清洗后的df，先使用`df1 = df0.copy()`创建一个df0的副本df1"
   ]
  },
  {
   "cell_type": "markdown",
   "id": "836625fd-0889-45cc-8632-886b27928890",
   "metadata": {},
   "source": [
    "### CASE1 索引及列名乱（结构性问题1） \n",
    "- 针对索引，使用`df1.rename(index={旧索引:新索引})`\n",
    "- 针对列名，使用`df1.rename(columns={旧列名：新列名})`\n",
    "- 批量操作：`df1.rename(columns=某函数/某方法)` 或 `df1.rename(index = 某函数/方法)`\n",
    "- 例如：`df1.rename(columns=str.upper)` 返回列名变成大写\n",
    "- 使用Series的`str`属性，来获取包含很多字符串方法的类实例\n",
    "- 把某列设置为索引`df1.set_index(列名)`\n",
    "- `df1.reset_index()`把索引设置为初始默认位置索引，原本索引变成单独一列\n",
    "- `df1.sort_index()` 排序索引\n",
    "- 以上原始df都未改变，要重新赋值；或者传入`inplace=True`\n",
    "![对字符串SERIES调用的更多方法](https://img.picui.cn/free/2025/06/01/683c46b936871.png)"
   ]
  },
  {
   "cell_type": "markdown",
   "id": "616930e2-6e37-47f3-9c63-4622d6c827bc",
   "metadata": {},
   "source": [
    "### CASE2 数据内容乱（结构性问题2）\n",
    "- 转置`df1 = df1.T`\n",
    "### 把一列拆分为多列:\n",
    "- 如果是字符串，使用`df1.[列名].str.split(\"分隔符\"（可以是空格，/等等）,expand = True)`，返回一个包含多列的DF，之后使用`df1[[列名1,列名2]] = df1.[列名].str.split(\"分隔符\"（可以是空格，/等等）,expand = True)`来添加列，再通过`df1 = df1.drop(原列名, axis = 1)`来删除原始列。\n",
    "### 合并列：\n",
    "- 使用`df1[列名1].str..cat(df[列名2],sep=\"指定拼接时的分隔符\")`，之后再使用同上方的添加列和删除列的操作即可。  \n",
    "### 把宽数据转换成长数据  \n",
    "- `df1 = pd.melt(df1, di_vars=[不需要处理的列名], var_name=包含原本列名值的新列列名, value_name=包含原本 变量值的新列列名)`  \n",
    "### 拆分行  \n",
    "- `df1.explode(原列名)`\n",
    "### 删除行或列  \n",
    "- `df1 = .drop方法`  \n",
    "注意：基本所有df操作都是不改变原始df的，使用重新赋值"
   ]
  },
  {
   "cell_type": "markdown",
   "id": "88b1ff73-909f-404b-b68a-5ba1197c1fcc",
   "metadata": {},
   "source": [
    "### CASE3 数据内容性  \n",
    "### 处理缺失数据  \n",
    "- 使用`df1[列名]=值`赋值操作，对整列缺失值进行填充\n",
    "- 使用`df1.loc[行名,列名]=值`，对某一特定缺失值进行填充\n",
    "- 使用`df1.loc[切片]`方法对部分缺失值进行填充\n",
    "- 使用`df1[列名].fillna(需传入的值)`对特定列中的缺失值进行填充\n",
    "- 使用`df1.fillna(传入值或者一个字典，列名为键，需传入的值为值)`对整个df中的缺失值进行填充\n",
    "- 以上不改变原始df\n",
    "- 使用`df1.dropna(subset=[列名],axis=0)`返回去掉包含缺失值的行所组成的新的df，使用subset可以只检查对应的列下是否由缺失值，有则删除该行  \n",
    "### 删除重复值  \n",
    "- 使用`df1[列名].drop_duplicates()`或`df1.drop_duplicates(subset=[列名1,列名2])`删除指定重复行，默认删除第二次出现的行，使用`keep='last'`来删除第一次出现的行  \n",
    "### 对值进行替换（处理不一致数据）  \n",
    "- 使用`df1.replace(要被替换的值（可以传入列表）,替换成什么值（或者全部传成一个字典）,inplace=True)`  \n",
    "### 对值的类型进行转换\n",
    "- `series1.astype(类型名)`'str'=='object'\n",
    "- 推荐对分类数据提前全部转换`series1.astype(\"category\")`比如：性别，颜色，离散可数的数据\n",
    "- 对于日期时间数据类型，使用`pd.to_datetime(要转换的列)`"
   ]
  },
  {
   "cell_type": "markdown",
   "id": "328981b1-bb52-431a-92ae-c5e5859e40ff",
   "metadata": {},
   "source": [
    "## 保存数据  \n",
    "- 写入csv文件\n",
    "- `df1.to_csv(文件路径,index=True(False不保存索引))`将df1转成csv，同时保存到对应路径的文件里面，如果不存在，则会自动创建，如果原始文件存在，会覆盖\n",
    "- 重新读取之前保存的文件，会出现索引单独成一列的状况，要先用`rename`方法，将那一列去一个有意义的名字，再使用`set_index`方法，把那一列设置为索引"
   ]
  },
  {
   "cell_type": "markdown",
   "id": "32d25958-d395-48b5-8b34-f3e99dfe2e6b",
   "metadata": {},
   "source": []
  }
 ],
 "metadata": {
  "kernelspec": {
   "display_name": "Python 3 (ipykernel)",
   "language": "python",
   "name": "python3"
  },
  "language_info": {
   "codemirror_mode": {
    "name": "ipython",
    "version": 3
   },
   "file_extension": ".py",
   "mimetype": "text/x-python",
   "name": "python",
   "nbconvert_exporter": "python",
   "pygments_lexer": "ipython3",
   "version": "3.11.7"
  }
 },
 "nbformat": 4,
 "nbformat_minor": 5
}
